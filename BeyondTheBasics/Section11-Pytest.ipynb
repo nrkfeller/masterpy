{
 "cells": [
  {
   "cell_type": "markdown",
   "metadata": {},
   "source": [
    "# Pytest\n",
    "Programs to test other programs\n",
    "* py.test looks for scripts functions/methods called ```test_```\n",
    "* After calling function or method ```assert``` something is true\n",
    "* with ```pytest.raises()``` expect an error\n",
    "* ```setup_class()``` method to do a test prep\n",
    "* ```teardown_class()``` method to clean up after tests"
   ]
  },
  {
   "cell_type": "code",
   "execution_count": null,
   "metadata": {},
   "outputs": [],
   "source": []
  },
  {
   "cell_type": "code",
   "execution_count": null,
   "metadata": {
    "collapsed": true
   },
   "outputs": [],
   "source": []
  }
 ],
 "metadata": {
  "kernelspec": {
   "display_name": "py3",
   "language": "python",
   "name": "py3"
  },
  "language_info": {
   "codemirror_mode": {
    "name": "ipython",
    "version": 2
   },
   "file_extension": ".py",
   "mimetype": "text/x-python",
   "name": "python",
   "nbconvert_exporter": "python",
   "pygments_lexer": "ipython2",
   "version": "2.7.13"
  }
 },
 "nbformat": 4,
 "nbformat_minor": 2
}
