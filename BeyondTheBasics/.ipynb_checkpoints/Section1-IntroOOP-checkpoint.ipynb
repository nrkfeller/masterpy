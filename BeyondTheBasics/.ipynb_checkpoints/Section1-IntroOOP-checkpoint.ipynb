{
 "cells": [
  {
   "cell_type": "markdown",
   "metadata": {},
   "source": [
    "# OOP\n",
    "Invented by smalltalk developers. A paradigm for code organization - As opposed to procedural\n",
    "* Objects - SPecially designed entities\n",
    "* Methods - functionality ```object.functionality()```\n",
    "\n",
    "For maintenance and extension. Primary software design principle in the world\n",
    "\n",
    "### Why OOP\n",
    "1. use\n",
    "2. understand\n",
    "3. maintain and extend\n",
    "\n",
    "### Pillars of OOP\n",
    "1. Inhenritance\n",
    "2. Encapsulation\n",
    "3. Polymorphism\n",
    "\n",
    "### Python\n",
    "Everything is an object, even primitives.\n",
    "\n",
    "Objects are data units, that has attributes that are part of a type or class and associated functionalities called methods.\n",
    "\n",
    "Python is designed to be consistent and elegant. There are as few special rules as possible. Hopefully everything makes sense in python and people are not \"power users\""
   ]
  },
  {
   "cell_type": "code",
   "execution_count": 21,
   "metadata": {},
   "outputs": [
    {
     "name": "stdout",
     "output_type": "stream",
     "text": [
      "('class', <type 'str'>, <type 'int'>, <type 'function'>, <type 'type'>)\n"
     ]
    }
   ],
   "source": [
    "myStr = \"hi\"\n",
    "myInt = 5\n",
    "def myFunc():\n",
    "    pass\n",
    "myType = type(myStr)\n",
    "print(\"class\", type(myStr), type(myInt), type(myFunc), type(myType))"
   ]
  },
  {
   "cell_type": "markdown",
   "metadata": {},
   "source": [
    "### Attributes of an object"
   ]
  },
  {
   "cell_type": "code",
   "execution_count": 22,
   "metadata": {},
   "outputs": [
    {
     "name": "stdout",
     "output_type": "stream",
     "text": [
      "['__abs__', '__add__', '__and__', '__class__', '__cmp__', '__coerce__', '__delattr__', '__div__', '__divmod__', '__doc__', '__float__', '__floordiv__', '__format__', '__getattribute__', '__getnewargs__', '__hash__', '__hex__', '__index__', '__init__', '__int__', '__invert__', '__long__', '__lshift__', '__mod__', '__mul__', '__neg__', '__new__', '__nonzero__', '__oct__', '__or__', '__pos__', '__pow__', '__radd__', '__rand__', '__rdiv__', '__rdivmod__', '__reduce__', '__reduce_ex__', '__repr__', '__rfloordiv__', '__rlshift__', '__rmod__', '__rmul__', '__ror__', '__rpow__', '__rrshift__', '__rshift__', '__rsub__', '__rtruediv__', '__rxor__', '__setattr__', '__sizeof__', '__str__', '__sub__', '__subclasshook__', '__truediv__', '__trunc__', '__xor__', 'bit_length', 'conjugate', 'denominator', 'imag', 'numerator', 'real']\n",
      "5\n",
      "1\n",
      "3\n",
      "5\n"
     ]
    }
   ],
   "source": [
    "myInt = 5\n",
    "print(dir(myInt))\n",
    "print(myInt.numerator)\n",
    "print(myInt.denominator)\n",
    "print(myInt.bit_length())\n",
    "print(myInt.real)"
   ]
  },
  {
   "cell_type": "markdown",
   "metadata": {},
   "source": [
    "# Modules\n",
    "Code that is ment to be imported. But really any file that contains python code can be considered a module.\n",
    "If you import a module\n",
    "```\n",
    "import myMod\n",
    "```\n",
    "This will import a file that is named ```myMod.py```"
   ]
  },
  {
   "cell_type": "code",
   "execution_count": 23,
   "metadata": {},
   "outputs": [
    {
     "name": "stdout",
     "output_type": "stream",
     "text": [
      "def print_potato():\r\n",
      "    print(\"This is a printed potato\")\r\n"
     ]
    }
   ],
   "source": [
    "# Lets see what is in the myMod module\n",
    "!cat myMod.py"
   ]
  },
  {
   "cell_type": "code",
   "execution_count": 24,
   "metadata": {},
   "outputs": [
    {
     "name": "stdout",
     "output_type": "stream",
     "text": [
      "This is a printed potato\n"
     ]
    }
   ],
   "source": [
    "import myMod\n",
    "myMod.print_potato()"
   ]
  },
  {
   "cell_type": "code",
   "execution_count": 25,
   "metadata": {},
   "outputs": [
    {
     "name": "stdout",
     "output_type": "stream",
     "text": [
      "This is a printed potato\n"
     ]
    }
   ],
   "source": [
    "from myMod import print_potato\n",
    "print_potato()"
   ]
  },
  {
   "cell_type": "code",
   "execution_count": 26,
   "metadata": {},
   "outputs": [
    {
     "name": "stdout",
     "output_type": "stream",
     "text": [
      "(Decimal('4.5634553'), 'type : ', <class 'decimal.Decimal'>)\n"
     ]
    }
   ],
   "source": [
    "from decimal import Decimal\n",
    "myDec = Decimal('3.5634553')\n",
    "print(myDec + 1, \"type : \", type(myDec))"
   ]
  },
  {
   "cell_type": "code",
   "execution_count": null,
   "metadata": {
    "collapsed": true
   },
   "outputs": [],
   "source": []
  }
 ],
 "metadata": {
  "kernelspec": {
   "display_name": "py3",
   "language": "python",
   "name": "py3"
  },
  "language_info": {
   "codemirror_mode": {
    "name": "ipython",
    "version": 2
   },
   "file_extension": ".py",
   "mimetype": "text/x-python",
   "name": "python",
   "nbconvert_exporter": "python",
   "pygments_lexer": "ipython2",
   "version": "2.7.13"
  }
 },
 "nbformat": 4,
 "nbformat_minor": 2
}
