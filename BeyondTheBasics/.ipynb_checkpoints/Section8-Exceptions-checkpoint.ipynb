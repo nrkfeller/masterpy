{
 "cells": [
  {
   "cell_type": "markdown",
   "metadata": {},
   "source": [
    "# Exceptions\n",
    "* identify exceptions\n",
    "* trapping exceptions with ```try/catch```\n",
    "* Raising exceptions with ```raise```\n",
    "* Defining custom exception classes"
   ]
  },
  {
   "cell_type": "code",
   "execution_count": 3,
   "metadata": {},
   "outputs": [
    {
     "name": "stdout",
     "output_type": "stream",
     "text": [
      "Pick a key : a\n",
      "testing for error\n",
      "You made an error!\n",
      "The key a is not in the dict\n"
     ]
    }
   ],
   "source": [
    "import sys\n",
    "\n",
    "mydict = {'a':1, 'b':2, 'c':3, 'd':4}\n",
    "\n",
    "key = raw_input(\"Pick a key : \")\n",
    "\n",
    "try:\n",
    "    print \"testing for error\"\n",
    "    print \"the value for {0} is {1}\".format(key, mydict['key'])\n",
    "except KeyError:\n",
    "    print \"You made an error!\"\n",
    "    print \"The key {} is not in the dict\".format(key)\n",
    "    sys.exit()"
   ]
  },
  {
   "cell_type": "code",
   "execution_count": 4,
   "metadata": {},
   "outputs": [
    {
     "name": "stdout",
     "output_type": "stream",
     "text": [
      "yo das not a number\n"
     ]
    }
   ],
   "source": [
    "import sys\n",
    "\n",
    "try:\n",
    "    arg = sys.argv[1]\n",
    "    num = int(arg)\n",
    "except ValueError:\n",
    "    print \"yo das not a number\""
   ]
  },
  {
   "cell_type": "markdown",
   "metadata": {},
   "source": [
    "# Stack Trace\n",
    "It doesnt matter where is the stack the error is invoked you can get catch it high in the stack"
   ]
  },
  {
   "cell_type": "code",
   "execution_count": 7,
   "metadata": {},
   "outputs": [
    {
     "name": "stdout",
     "output_type": "stream",
     "text": [
      "main\n",
      "some_major_func()\n",
      "some_util_func()\n",
      "do_something()\n",
      "make_error()\n",
      "you silly boy\n"
     ]
    }
   ],
   "source": [
    "class MyClass(object):\n",
    "    \n",
    "    @staticmethod\n",
    "    def make_error():\n",
    "        print \"make_error()\"\n",
    "        5/0\n",
    "        print \"    make_error()\"\n",
    "        \n",
    "    def do_something(self):\n",
    "        print \"do_something()\"\n",
    "        self.make_error()\n",
    "        print \"    do_something()\"\n",
    "        \n",
    "def some_util_func():\n",
    "    print \"some_util_func()\"\n",
    "    cc = MyClass()\n",
    "    cc.do_something()\n",
    "    print \"    some_util_func()\"\n",
    "    \n",
    "def some_major_func():\n",
    "    print \"some_major_func()\"\n",
    "    some_util_func()\n",
    "    print \"    some_major_func()\"\n",
    "    \n",
    "def main():\n",
    "    print \"main\"\n",
    "    some_major_func()\n",
    "    print \"main\"\n",
    "    \n",
    "try:\n",
    "    main()\n",
    "except ZeroDivisionError:\n",
    "    print \"you silly boy\""
   ]
  },
  {
   "cell_type": "markdown",
   "metadata": {},
   "source": [
    "# Descriptive Error Messages"
   ]
  },
  {
   "cell_type": "code",
   "execution_count": 9,
   "metadata": {},
   "outputs": [
    {
     "ename": "TypeError",
     "evalue": "delimiter() first arguemnt should be a list",
     "output_type": "error",
     "traceback": [
      "\u001b[0;31m---------------------------------------------------------------------------\u001b[0m",
      "\u001b[0;31mTypeError\u001b[0m                                 Traceback (most recent call last)",
      "\u001b[0;32m<ipython-input-9-d94f17d69a72>\u001b[0m in \u001b[0;36m<module>\u001b[0;34m()\u001b[0m\n\u001b[1;32m      6\u001b[0m     \u001b[0;32mreturn\u001b[0m \u001b[0mres\u001b[0m\u001b[0;34m\u001b[0m\u001b[0m\n\u001b[1;32m      7\u001b[0m \u001b[0;34m\u001b[0m\u001b[0m\n\u001b[0;32m----> 8\u001b[0;31m \u001b[0mdelimiter\u001b[0m\u001b[0;34m(\u001b[0m\u001b[0;36m1\u001b[0m\u001b[0;34m,\u001b[0m \u001b[0;34m','\u001b[0m\u001b[0;34m)\u001b[0m\u001b[0;34m\u001b[0m\u001b[0m\n\u001b[0m",
      "\u001b[0;32m<ipython-input-9-d94f17d69a72>\u001b[0m in \u001b[0;36mdelimiter\u001b[0;34m(l, delim)\u001b[0m\n\u001b[1;32m      3\u001b[0m         \u001b[0mres\u001b[0m \u001b[0;34m=\u001b[0m \u001b[0mdelim\u001b[0m\u001b[0;34m.\u001b[0m\u001b[0mjoin\u001b[0m\u001b[0;34m(\u001b[0m\u001b[0ml\u001b[0m\u001b[0;34m)\u001b[0m\u001b[0;34m\u001b[0m\u001b[0m\n\u001b[1;32m      4\u001b[0m     \u001b[0;32mexcept\u001b[0m \u001b[0mTypeError\u001b[0m\u001b[0;34m:\u001b[0m\u001b[0;34m\u001b[0m\u001b[0m\n\u001b[0;32m----> 5\u001b[0;31m         \u001b[0;32mraise\u001b[0m \u001b[0mTypeError\u001b[0m\u001b[0;34m(\u001b[0m\u001b[0;34m\"delimiter() first arguemnt should be a list\"\u001b[0m\u001b[0;34m)\u001b[0m\u001b[0;34m\u001b[0m\u001b[0m\n\u001b[0m\u001b[1;32m      6\u001b[0m     \u001b[0;32mreturn\u001b[0m \u001b[0mres\u001b[0m\u001b[0;34m\u001b[0m\u001b[0m\n\u001b[1;32m      7\u001b[0m \u001b[0;34m\u001b[0m\u001b[0m\n",
      "\u001b[0;31mTypeError\u001b[0m: delimiter() first arguemnt should be a list"
     ]
    }
   ],
   "source": [
    "def delimiter(l, delim):\n",
    "    try:\n",
    "        res = delim.join(l)\n",
    "    except TypeError:\n",
    "        raise TypeError(\"delimiter() first arguemnt should be a list\")\n",
    "    return res\n",
    "\n",
    "delimiter(1, ',')"
   ]
  },
  {
   "cell_type": "markdown",
   "metadata": {},
   "source": [
    "# Error Class Instance e"
   ]
  },
  {
   "cell_type": "code",
   "execution_count": 10,
   "metadata": {},
   "outputs": [
    {
     "name": "stdout",
     "output_type": "stream",
     "text": [
      "integer division or modulo by zero\n",
      "('integer division or modulo by zero',)\n"
     ]
    },
    {
     "name": "stderr",
     "output_type": "stream",
     "text": [
      "/Users/nicolasfeller/anaconda/lib/python2.7/site-packages/ipykernel_launcher.py:4: DeprecationWarning: BaseException.message has been deprecated as of Python 2.6\n",
      "  after removing the cwd from sys.path.\n"
     ]
    }
   ],
   "source": [
    "try:\n",
    "    print 5/0\n",
    "except ZeroDivisionError, e:\n",
    "    print e.message\n",
    "    print e.args"
   ]
  },
  {
   "cell_type": "markdown",
   "metadata": {},
   "source": [
    "# Custom Exceptions\n",
    "Exceptions are like classes so they can inherit like anything else. We can also create our own exceptions and error types."
   ]
  },
  {
   "cell_type": "code",
   "execution_count": 13,
   "metadata": {},
   "outputs": [
    {
     "name": "stdout",
     "output_type": "stream",
     "text": [
      "the submitted data is 1980-01-03\n",
      "\n",
      "\n"
     ]
    },
    {
     "ename": "ValueError",
     "evalue": "please submit date in YYYY-MM-DD format",
     "output_type": "error",
     "traceback": [
      "\u001b[0;31m---------------------------------------------------------------------------\u001b[0m",
      "\u001b[0;31mValueError\u001b[0m                                Traceback (most recent call last)",
      "\u001b[0;32m<ipython-input-13-d11eb6cd9d1f>\u001b[0m in \u001b[0;36m<module>\u001b[0;34m()\u001b[0m\n\u001b[1;32m      8\u001b[0m \u001b[0mprocess_date\u001b[0m\u001b[0;34m(\u001b[0m\u001b[0;34m'1980-01-03'\u001b[0m\u001b[0;34m)\u001b[0m\u001b[0;34m\u001b[0m\u001b[0m\n\u001b[1;32m      9\u001b[0m \u001b[0;32mprint\u001b[0m\u001b[0;34m;\u001b[0m \u001b[0;32mprint\u001b[0m\u001b[0;34m\u001b[0m\u001b[0m\n\u001b[0;32m---> 10\u001b[0;31m \u001b[0mprocess_date\u001b[0m\u001b[0;34m(\u001b[0m\u001b[0;34m'1/3/1990'\u001b[0m\u001b[0;34m)\u001b[0m\u001b[0;34m\u001b[0m\u001b[0m\n\u001b[0m",
      "\u001b[0;32m<ipython-input-13-d11eb6cd9d1f>\u001b[0m in \u001b[0;36mprocess_date\u001b[0;34m(this_date)\u001b[0m\n\u001b[1;32m      3\u001b[0m \u001b[0;32mdef\u001b[0m \u001b[0mprocess_date\u001b[0m\u001b[0;34m(\u001b[0m\u001b[0mthis_date\u001b[0m\u001b[0;34m)\u001b[0m\u001b[0;34m:\u001b[0m\u001b[0;34m\u001b[0m\u001b[0m\n\u001b[1;32m      4\u001b[0m     \u001b[0;32mif\u001b[0m \u001b[0;32mnot\u001b[0m \u001b[0mre\u001b[0m\u001b[0;34m.\u001b[0m\u001b[0msearch\u001b[0m\u001b[0;34m(\u001b[0m\u001b[0;34mr'\\d\\d\\d\\d\\-\\d\\d\\-\\d\\d$'\u001b[0m\u001b[0;34m,\u001b[0m \u001b[0mthis_date\u001b[0m\u001b[0;34m)\u001b[0m\u001b[0;34m:\u001b[0m\u001b[0;34m\u001b[0m\u001b[0m\n\u001b[0;32m----> 5\u001b[0;31m         \u001b[0;32mraise\u001b[0m \u001b[0mValueError\u001b[0m\u001b[0;34m(\u001b[0m\u001b[0;34m'please submit date in YYYY-MM-DD format'\u001b[0m\u001b[0;34m)\u001b[0m\u001b[0;34m\u001b[0m\u001b[0m\n\u001b[0m\u001b[1;32m      6\u001b[0m     \u001b[0;32mprint\u001b[0m \u001b[0;34m'the submitted data is {0}'\u001b[0m\u001b[0;34m.\u001b[0m\u001b[0mformat\u001b[0m\u001b[0;34m(\u001b[0m\u001b[0mthis_date\u001b[0m\u001b[0;34m)\u001b[0m\u001b[0;34m\u001b[0m\u001b[0m\n\u001b[1;32m      7\u001b[0m \u001b[0;34m\u001b[0m\u001b[0m\n",
      "\u001b[0;31mValueError\u001b[0m: please submit date in YYYY-MM-DD format"
     ]
    }
   ],
   "source": [
    "import re\n",
    "\n",
    "def process_date(this_date):\n",
    "    if not re.search(r'\\d\\d\\d\\d\\-\\d\\d\\-\\d\\d$', this_date):\n",
    "        # we have decided that this is a value error\n",
    "        raise ValueError('please submit date in YYYY-MM-DD format')\n",
    "    print 'the submitted data is {0}'.format(this_date)\n",
    "    \n",
    "process_date('1980-01-03')\n",
    "print; print\n",
    "process_date('1/3/1990')"
   ]
  },
  {
   "cell_type": "code",
   "execution_count": 15,
   "metadata": {},
   "outputs": [],
   "source": [
    " class MyError(Exception):\n",
    "        \n",
    "        def __init__(self, *args):\n",
    "            print 'calling init'\n",
    "            if args:\n",
    "                self.message = args[0]\n",
    "            else:\n",
    "                self.message = \"\"\n",
    "                \n",
    "        def __str__(self):\n",
    "            print 'calling str'\n",
    "            if self.message:\n",
    "                return \"MyError exception with message{}\".format(self.message)\n",
    "            else:\n",
    "                return \"MyError exception\""
   ]
  },
  {
   "cell_type": "code",
   "execution_count": 16,
   "metadata": {},
   "outputs": [
    {
     "name": "stdout",
     "output_type": "stream",
     "text": [
      "calling init\n",
      "calling str\n"
     ]
    },
    {
     "ename": "MyError",
     "evalue": "MyError exception with messagepotaotoooo",
     "output_type": "error",
     "traceback": [
      "\u001b[0;31m---------------------------------------------------------------------------\u001b[0m",
      "\u001b[0;31mMyError\u001b[0m                                   Traceback (most recent call last)",
      "\u001b[0;32m<ipython-input-16-c841cdafce51>\u001b[0m in \u001b[0;36m<module>\u001b[0;34m()\u001b[0m\n\u001b[0;32m----> 1\u001b[0;31m \u001b[0;32mraise\u001b[0m \u001b[0mMyError\u001b[0m\u001b[0;34m(\u001b[0m\u001b[0;34m\"potaotoooo\"\u001b[0m\u001b[0;34m)\u001b[0m\u001b[0;34m\u001b[0m\u001b[0m\n\u001b[0m",
      "\u001b[0;31mMyError\u001b[0m: MyError exception with messagepotaotoooo"
     ]
    },
    {
     "name": "stdout",
     "output_type": "stream",
     "text": [
      "calling str\n",
      "calling str\n"
     ]
    }
   ],
   "source": [
    "raise MyError(\"potaotoooo\")"
   ]
  },
  {
   "cell_type": "code",
   "execution_count": null,
   "metadata": {
    "collapsed": true
   },
   "outputs": [],
   "source": []
  }
 ],
 "metadata": {
  "kernelspec": {
   "display_name": "py3",
   "language": "python",
   "name": "py3"
  },
  "language_info": {
   "codemirror_mode": {
    "name": "ipython",
    "version": 2
   },
   "file_extension": ".py",
   "mimetype": "text/x-python",
   "name": "python",
   "nbconvert_exporter": "python",
   "pygments_lexer": "ipython2",
   "version": "2.7.13"
  }
 },
 "nbformat": 4,
 "nbformat_minor": 2
}
