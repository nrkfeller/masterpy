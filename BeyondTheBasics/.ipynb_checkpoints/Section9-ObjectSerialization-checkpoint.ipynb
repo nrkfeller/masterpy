{
 "cells": [
  {
   "cell_type": "markdown",
   "metadata": {},
   "source": [
    "# Object Serialization\n",
    "* Serialization means persisten storage to disk\n",
    "* Relational storage writes data to tables\n",
    "* object based storage stores objects as they are used in code (object databases)\n",
    "* Object relational mapping can mediate between"
   ]
  },
  {
   "cell_type": "code",
   "execution_count": 3,
   "metadata": {
    "collapsed": true
   },
   "outputs": [],
   "source": [
    "#example 1: regular pickling\n",
    "import pickle\n",
    "\n",
    "mylist = [1,2,3,4]\n",
    "\n",
    "with open(\"data.txt\", 'w') as fh:\n",
    "    pickle.dump(mylist, fh)"
   ]
  },
  {
   "cell_type": "code",
   "execution_count": 4,
   "metadata": {},
   "outputs": [
    {
     "name": "stdout",
     "output_type": "stream",
     "text": [
      "[1, 2, 3, 4] <type 'list'>\n"
     ]
    }
   ],
   "source": [
    "with open(\"data.txt\", 'r') as fh:\n",
    "    mylist = pickle.load(fh)\n",
    "print mylist, type(mylist)"
   ]
  },
  {
   "cell_type": "code",
   "execution_count": 5,
   "metadata": {
    "collapsed": true
   },
   "outputs": [],
   "source": [
    "# example 2: dumps and loads transforms to string\n",
    "\n",
    "import pickle\n",
    "\n",
    "x = pickle.dumps(['a',2,4])\n",
    "var = pickle.loads(x)"
   ]
  },
  {
   "cell_type": "code",
   "execution_count": 6,
   "metadata": {},
   "outputs": [
    {
     "name": "stdout",
     "output_type": "stream",
     "text": [
      "['a', 2, 4]\n"
     ]
    }
   ],
   "source": [
    "print var"
   ]
  },
  {
   "cell_type": "code",
   "execution_count": 7,
   "metadata": {},
   "outputs": [
    {
     "data": {
      "text/plain": [
       "(str, \"(lp0\\nS'a'\\np1\\naI2\\naI4\\na.\")"
      ]
     },
     "execution_count": 7,
     "metadata": {},
     "output_type": "execute_result"
    }
   ],
   "source": [
    "type(x), x"
   ]
  },
  {
   "cell_type": "code",
   "execution_count": 10,
   "metadata": {
    "collapsed": true
   },
   "outputs": [],
   "source": [
    "# example 3: multiple instances\n",
    "\n",
    "import pickle\n",
    "\n",
    "this_int = 55\n",
    "this_string = \"hello darkness my old friend\"\n",
    "this_dict = {\n",
    "    'a':[1,2,3,4],\n",
    "    'b':[6,7,8]\n",
    "}\n",
    "query_results = [('joe', 22, 'clerk'), ('pete', 44, 'potato man')]\n",
    "\n",
    "with open(\"data.txt\", 'w') as fh:\n",
    "    pickle.dump((this_int, this_string, this_dict, query_results), fh)"
   ]
  },
  {
   "cell_type": "code",
   "execution_count": 11,
   "metadata": {},
   "outputs": [
    {
     "data": {
      "text/plain": [
       "(55,\n",
       " 'hello darkness my old friend',\n",
       " {'a': [1, 2, 3, 4], 'b': [6, 7, 8]},\n",
       " [('joe', 22, 'clerk'), ('pete', 44, 'potato man')])"
      ]
     },
     "execution_count": 11,
     "metadata": {},
     "output_type": "execute_result"
    }
   ],
   "source": [
    "with open(\"data.txt\", 'r') as fh:\n",
    "    recovered = pickle.load(fh)\n",
    "recovered"
   ]
  },
  {
   "cell_type": "code",
   "execution_count": 12,
   "metadata": {},
   "outputs": [
    {
     "data": {
      "text/plain": [
       "(55, {'a': [1, 2, 3, 4], 'b': [6, 7, 8]})"
      ]
     },
     "execution_count": 12,
     "metadata": {},
     "output_type": "execute_result"
    }
   ],
   "source": [
    "recovered[0], recovered[2]"
   ]
  },
  {
   "cell_type": "code",
   "execution_count": 3,
   "metadata": {},
   "outputs": [
    {
     "name": "stdout",
     "output_type": "stream",
     "text": [
      "<__main__.MyClass object at 0x107e04410>\n",
      "7\n"
     ]
    }
   ],
   "source": [
    "# example 4: store instance and state (class)\n",
    "import pickle\n",
    "\n",
    "class MyClass(object):\n",
    "    \n",
    "    def __init__(self, val):\n",
    "        self.val = val\n",
    "        \n",
    "    def increment(self):\n",
    "        self.val += 1\n",
    "        \n",
    "cc = MyClass(5)\n",
    "cc.increment()\n",
    "cc.increment()\n",
    "\n",
    "with open('data.txt', 'w') as fh:\n",
    "    pickle.dump(cc, fh)\n",
    "    \n",
    "with open('data.txt', 'r') as fh:\n",
    "    unpickled_cc = pickle.load(fh)\n",
    "    \n",
    "print unpickled_cc\n",
    "print unpickled_cc.val"
   ]
  },
  {
   "cell_type": "code",
   "execution_count": 5,
   "metadata": {},
   "outputs": [
    {
     "name": "stdout",
     "output_type": "stream",
     "text": [
      "<__main__.MyClass object at 0x107e10890>\n",
      "7\n"
     ]
    }
   ],
   "source": [
    "# pickle will need the class MyClass to be instantiated! We need to make the\n",
    "# declaration available fo rpickle to work on an instance of a class\n",
    "with open('data.txt', 'r') as fh:\n",
    "    unpickled_cc = pickle.load(fh)\n",
    "    \n",
    "print unpickled_cc\n",
    "print unpickled_cc.val"
   ]
  },
  {
   "cell_type": "markdown",
   "metadata": {},
   "source": [
    "# JSON"
   ]
  },
  {
   "cell_type": "code",
   "execution_count": 14,
   "metadata": {
    "collapsed": true
   },
   "outputs": [],
   "source": [
    "import json\n",
    "\n",
    "with open('backup.json') as fh:\n",
    "    conf = json.load(fh)\n",
    "  \n",
    "# Json does not support single quotes! But this will still work\n",
    "conf['newkey'] = 1337\n",
    "\n",
    "with open('backup.json', 'w') as fh:\n",
    "    json.dump(conf, fh)"
   ]
  },
  {
   "cell_type": "code",
   "execution_count": 15,
   "metadata": {},
   "outputs": [
    {
     "name": "stdout",
     "output_type": "stream",
     "text": [
      "{\"newkey\": 1337, \"k1\": 2}\n"
     ]
    }
   ],
   "source": [
    "with open('backup.json') as fh:\n",
    "    for line in fh:\n",
    "        print line"
   ]
  },
  {
   "cell_type": "code",
   "execution_count": 16,
   "metadata": {
    "collapsed": true
   },
   "outputs": [],
   "source": [
    "# We can make the JSON readable if we want!\n",
    "import json\n",
    "\n",
    "with open('backup.json') as fh:\n",
    "    conf = json.load(fh)\n",
    "\n",
    "conf['newnewkey'] = 9001\n",
    "\n",
    "with open('backup.json', 'w') as fh:\n",
    "    # These arguments make the JSON file readble\n",
    "    json.dump(conf, fh, indent=4, separators=(',',': '))"
   ]
  },
  {
   "cell_type": "markdown",
   "metadata": {},
   "source": [
    "# YAML\n",
    "used to stand for 'Yet Another Markup Language' but now stands for 'Yaml Ain't Markup Language' another recursive name like GNU.\n",
    "\n",
    "* Whitespace to separate elements, instead of quotes!\n",
    "* install with ```sudo pip install pyyaml```, we need permission!"
   ]
  },
  {
   "cell_type": "code",
   "execution_count": null,
   "metadata": {
    "collapsed": true
   },
   "outputs": [],
   "source": [
    "!pip install pyyaml"
   ]
  },
  {
   "cell_type": "code",
   "execution_count": null,
   "metadata": {
    "collapsed": true
   },
   "outputs": [],
   "source": [
    "import yaml\n",
    "\n",
    "mydict = {'a':1, 'b':2, 'c':4}\n",
    "mylist = [6,7,8]\n",
    "mytuple = ('x', 5, 'potato')\n",
    "\n",
    "loaded_yaml = yaml.dump(mydict, default_flow_style=False)"
   ]
  },
  {
   "cell_type": "code",
   "execution_count": null,
   "metadata": {
    "collapsed": true
   },
   "outputs": [],
   "source": [
    "print loaded_yaml"
   ]
  },
  {
   "cell_type": "code",
   "execution_count": null,
   "metadata": {
    "collapsed": true
   },
   "outputs": [],
   "source": [
    "print yaml.dump(mylist, default_flow_style=False)"
   ]
  },
  {
   "cell_type": "code",
   "execution_count": null,
   "metadata": {
    "collapsed": true
   },
   "outputs": [],
   "source": [
    "print yaml.dump(mytuple, default_flow_style=False)"
   ]
  },
  {
   "cell_type": "code",
   "execution_count": null,
   "metadata": {
    "collapsed": true
   },
   "outputs": [],
   "source": []
  }
 ],
 "metadata": {
  "kernelspec": {
   "display_name": "py3",
   "language": "python",
   "name": "py3"
  },
  "language_info": {
   "codemirror_mode": {
    "name": "ipython",
    "version": 2
   },
   "file_extension": ".py",
   "mimetype": "text/x-python",
   "name": "python",
   "nbconvert_exporter": "python",
   "pygments_lexer": "ipython2",
   "version": "2.7.13"
  }
 },
 "nbformat": 4,
 "nbformat_minor": 2
}
