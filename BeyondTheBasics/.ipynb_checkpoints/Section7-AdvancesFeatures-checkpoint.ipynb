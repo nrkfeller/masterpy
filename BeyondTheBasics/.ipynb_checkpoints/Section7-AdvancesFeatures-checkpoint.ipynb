{
 "cells": [
  {
   "cell_type": "markdown",
   "metadata": {},
   "source": [
    "# Implementing Core Syntax"
   ]
  },
  {
   "cell_type": "code",
   "execution_count": 5,
   "metadata": {
    "collapsed": true
   },
   "outputs": [],
   "source": [
    "var1 = 'hello'\n",
    "var2 = 'world'\n",
    "\n",
    "num1 = 4\n",
    "num2 = 5\n",
    "\n",
    "lis1 = [5,4,3,5]\n",
    "lis2 = [8,9,7]"
   ]
  },
  {
   "cell_type": "code",
   "execution_count": 6,
   "metadata": {},
   "outputs": [
    {
     "data": {
      "text/plain": [
       "'helloworld'"
      ]
     },
     "execution_count": 6,
     "metadata": {},
     "output_type": "execute_result"
    }
   ],
   "source": [
    "var1.__add__(var2)"
   ]
  },
  {
   "cell_type": "code",
   "execution_count": 7,
   "metadata": {},
   "outputs": [
    {
     "data": {
      "text/plain": [
       "9"
      ]
     },
     "execution_count": 7,
     "metadata": {},
     "output_type": "execute_result"
    }
   ],
   "source": [
    "num1.__add__(num2)"
   ]
  },
  {
   "cell_type": "code",
   "execution_count": 8,
   "metadata": {},
   "outputs": [
    {
     "data": {
      "text/plain": [
       "[5, 4, 3, 5, 8, 9, 7]"
      ]
     },
     "execution_count": 8,
     "metadata": {},
     "output_type": "execute_result"
    }
   ],
   "source": [
    "lis1.__add__(lis2)"
   ]
  },
  {
   "cell_type": "markdown",
   "metadata": {},
   "source": [
    "# Overloading +"
   ]
  },
  {
   "cell_type": "code",
   "execution_count": 11,
   "metadata": {
    "collapsed": true
   },
   "outputs": [],
   "source": [
    "class BroadcastList(object):\n",
    "    \n",
    "    def __init__(self, lis):\n",
    "        self.lis = lis\n",
    "        \n",
    "    def __add__(self, other):\n",
    "        # overloading +\n",
    "        new_lis = [other.lis[i] + self.lis[i] for i in range(0,len(self.lis))]\n",
    "        return BroadcastList(new_lis)\n",
    "    \n",
    "    def __str__(self): # __repr__(self) is the same\n",
    "        # String representation\n",
    "        return str(self.lis)"
   ]
  },
  {
   "cell_type": "code",
   "execution_count": 12,
   "metadata": {
    "collapsed": true
   },
   "outputs": [],
   "source": [
    "l1 = BroadcastList([1,2,3,4,5])\n",
    "l2 = BroadcastList([9,8,7,6,5])"
   ]
  },
  {
   "cell_type": "code",
   "execution_count": 13,
   "metadata": {
    "collapsed": true
   },
   "outputs": [],
   "source": [
    "z = l1 + l2 # l1.__add__(l2)"
   ]
  },
  {
   "cell_type": "code",
   "execution_count": 14,
   "metadata": {},
   "outputs": [
    {
     "name": "stdout",
     "output_type": "stream",
     "text": [
      "[10, 10, 10, 10, 10]\n"
     ]
    }
   ],
   "source": [
    "print z"
   ]
  },
  {
   "cell_type": "markdown",
   "metadata": {
    "collapsed": true
   },
   "source": [
    "# Inheriting from Built-Ins\n",
    "Lets us inherit form the build in python classes. Allows us to leverage the behavior of known classes."
   ]
  },
  {
   "cell_type": "code",
   "execution_count": 15,
   "metadata": {
    "collapsed": true
   },
   "outputs": [],
   "source": [
    "class MyDict(dict):\n",
    "    pass"
   ]
  },
  {
   "cell_type": "code",
   "execution_count": 16,
   "metadata": {
    "collapsed": true
   },
   "outputs": [],
   "source": [
    "md = MyDict()\n",
    "md['potato'] = 1.99\n",
    "md['tomato'] = 0.99"
   ]
  },
  {
   "cell_type": "code",
   "execution_count": 17,
   "metadata": {},
   "outputs": [
    {
     "data": {
      "text/plain": [
       "{'potato': 1.99, 'tomato': 0.99}"
      ]
     },
     "execution_count": 17,
     "metadata": {},
     "output_type": "execute_result"
    }
   ],
   "source": [
    "md"
   ]
  },
  {
   "cell_type": "code",
   "execution_count": 19,
   "metadata": {},
   "outputs": [
    {
     "name": "stdout",
     "output_type": "stream",
     "text": [
      "['__class__', '__cmp__', '__contains__', '__delattr__', '__delitem__', '__dict__', '__doc__', '__eq__', '__format__', '__ge__', '__getattribute__', '__getitem__', '__gt__', '__hash__', '__init__', '__iter__', '__le__', '__len__', '__lt__', '__module__', '__ne__', '__new__', '__reduce__', '__reduce_ex__', '__repr__', '__setattr__', '__setitem__', '__sizeof__', '__str__', '__subclasshook__', '__weakref__', 'clear', 'copy', 'fromkeys', 'get', 'has_key', 'items', 'iteritems', 'iterkeys', 'itervalues', 'keys', 'pop', 'popitem', 'setdefault', 'update', 'values', 'viewitems', 'viewkeys', 'viewvalues']\n"
     ]
    }
   ],
   "source": [
    "print dir(md)"
   ]
  },
  {
   "cell_type": "code",
   "execution_count": 20,
   "metadata": {
    "collapsed": true
   },
   "outputs": [],
   "source": [
    "class MyDict(dict):\n",
    "    def __setitem__(self, key, value):\n",
    "        print \"Setting {} to {}\".format(key, value)\n",
    "        dict.__setitem__(self, key, value)"
   ]
  },
  {
   "cell_type": "code",
   "execution_count": 21,
   "metadata": {},
   "outputs": [
    {
     "name": "stdout",
     "output_type": "stream",
     "text": [
      "Setting potato to 1.99\n",
      "Setting tomato to 0.99\n"
     ]
    }
   ],
   "source": [
    "md = MyDict()\n",
    "md['potato'] = 1.99\n",
    "md['tomato'] = 0.99"
   ]
  },
  {
   "cell_type": "code",
   "execution_count": 22,
   "metadata": {},
   "outputs": [
    {
     "data": {
      "text/plain": [
       "{'potato': 1.99, 'tomato': 0.99}"
      ]
     },
     "execution_count": 22,
     "metadata": {},
     "output_type": "execute_result"
    }
   ],
   "source": [
    "md"
   ]
  },
  {
   "cell_type": "code",
   "execution_count": 2,
   "metadata": {
    "collapsed": true
   },
   "outputs": [],
   "source": [
    "class MyList(list):\n",
    "    def __getitem__(self,index):\n",
    "        if index == 0: raise IndexError\n",
    "        if index > 0: index = index - 1\n",
    "        return list.__getitem__(self, index)\n",
    "    \n",
    "    def __setitem__(self, index, value):\n",
    "        if index == 0: raise IndexError\n",
    "        if index > 0: index = index - 1\n",
    "        return list.__setitem__(self, index, value)"
   ]
  },
  {
   "cell_type": "code",
   "execution_count": 3,
   "metadata": {},
   "outputs": [
    {
     "name": "stdout",
     "output_type": "stream",
     "text": [
      "4 9\n"
     ]
    }
   ],
   "source": [
    "l1 = MyList([4,5,6])\n",
    "l1.append(9)\n",
    "# This list acts like non programmers believe they should work!\n",
    "print l1[1], l1[4]"
   ]
  },
  {
   "cell_type": "code",
   "execution_count": 4,
   "metadata": {
    "collapsed": true
   },
   "outputs": [],
   "source": [
    "# This just allowed us to do something very powerful, very simply, by inheriting from powerful\n",
    "# existing classes"
   ]
  },
  {
   "cell_type": "markdown",
   "metadata": {},
   "source": [
    "# Attribute Encapsulation\n",
    "By default python does not enforce encapsulation.\n",
    "\n",
    "However forcing encapsulation is un-Pythonic.\n",
    "\n",
    "```@property``` as the getter and its associated ```@<attribute>.setter``` will run the getter and setter functions when called instead.\n",
    "\n",
    "Call all of the function definition the save: as in example below, all the methods are called ```def var(self,...)```"
   ]
  },
  {
   "cell_type": "code",
   "execution_count": 13,
   "metadata": {
    "collapsed": true
   },
   "outputs": [],
   "source": [
    "class MyClass(object):\n",
    "    \n",
    "    def __init__(self, var):\n",
    "        self.attrVar = var\n",
    "        \n",
    "    @property\n",
    "    def var(self):\n",
    "        print \"Getter\"\n",
    "        return self.attrVar\n",
    "    \n",
    "    @var.setter\n",
    "    def var(self, var):\n",
    "        print \"Setter\"\n",
    "        self.attrVar = var\n",
    "        \n",
    "    @var.deleter\n",
    "    def var(self):\n",
    "        print \"Deleter\"\n",
    "        self.attrVar = None"
   ]
  },
  {
   "cell_type": "code",
   "execution_count": 14,
   "metadata": {
    "collapsed": true
   },
   "outputs": [],
   "source": [
    "myinst = MyClass(10)"
   ]
  },
  {
   "cell_type": "code",
   "execution_count": 15,
   "metadata": {},
   "outputs": [
    {
     "name": "stdout",
     "output_type": "stream",
     "text": [
      "Getter\n"
     ]
    },
    {
     "data": {
      "text/plain": [
       "10"
      ]
     },
     "execution_count": 15,
     "metadata": {},
     "output_type": "execute_result"
    }
   ],
   "source": [
    "myinst.var"
   ]
  },
  {
   "cell_type": "code",
   "execution_count": 16,
   "metadata": {},
   "outputs": [
    {
     "name": "stdout",
     "output_type": "stream",
     "text": [
      "Setter\n"
     ]
    }
   ],
   "source": [
    "myinst.var = 20"
   ]
  },
  {
   "cell_type": "code",
   "execution_count": 17,
   "metadata": {},
   "outputs": [
    {
     "name": "stdout",
     "output_type": "stream",
     "text": [
      "Deleter\n"
     ]
    }
   ],
   "source": [
    "del myinst.var"
   ]
  },
  {
   "cell_type": "code",
   "execution_count": 18,
   "metadata": {},
   "outputs": [
    {
     "name": "stdout",
     "output_type": "stream",
     "text": [
      "Getter\n"
     ]
    }
   ],
   "source": [
    "myinst.var"
   ]
  },
  {
   "cell_type": "markdown",
   "metadata": {},
   "source": [
    "# Private Variable Names\n",
    "PEP 8 is a style guide, none of this is enforced by python, this is by design. This is considered professional style\n",
    "\n",
    "Python Enhancement Proposals\n",
    "* Modules are named: ```all_lower_case```\n",
    "* Classes are named: ```CamelCase```\n",
    "* Globals and locals: ```all_lower_case```\n",
    "* Functions and Methods: ```all_lower_case```\n",
    "* Constants: ```ALLCAPS```\n",
    "\n",
    "# Public and Private naming\n",
    "* Public attributes or variables: ```regular_lower_case```\n",
    "* Private attributes or variables: ```_single_leading_underscore``` (only used internally)\n",
    "* Private attributes that should'nt be subclassed ```__double_leading_underscore``` (not supposed to be subclassed.\n",
    "* Magic attributes: ```__surounded_by_double_underscore__``` (do not create these)\n",
    "\n"
   ]
  },
  {
   "cell_type": "code",
   "execution_count": 19,
   "metadata": {
    "collapsed": true
   },
   "outputs": [],
   "source": [
    "class MyClass(object):\n",
    "    \n",
    "    # should not be accessed: can be accessed using _MyClass__hidden\n",
    "    __hidden = \"Don't look here\"\n",
    "    \n",
    "    def __init__(self, var):\n",
    "        # This tells other programmers _attrVar should not be accessed\n",
    "        # outside of this class, even though it could be\n",
    "        self._attrVar = var\n",
    "        \n",
    "    @property\n",
    "    def var(self):\n",
    "        print \"Getter\"\n",
    "        return self._attrVar\n",
    "    \n",
    "    @var.setter\n",
    "    def var(self, var):\n",
    "        print \"Setter\"\n",
    "        self._attrVar = var\n",
    "        \n",
    "    @var.deleter\n",
    "    def var(self):\n",
    "        print \"Deleter\"\n",
    "        self._attrVar = None"
   ]
  },
  {
   "cell_type": "code",
   "execution_count": 20,
   "metadata": {
    "collapsed": true
   },
   "outputs": [],
   "source": [
    "myinst = MyClass(10)"
   ]
  },
  {
   "cell_type": "code",
   "execution_count": 21,
   "metadata": {},
   "outputs": [
    {
     "name": "stdout",
     "output_type": "stream",
     "text": [
      "Getter\n"
     ]
    },
    {
     "data": {
      "text/plain": [
       "10"
      ]
     },
     "execution_count": 21,
     "metadata": {},
     "output_type": "execute_result"
    }
   ],
   "source": [
    "myinst.var"
   ]
  },
  {
   "cell_type": "code",
   "execution_count": 22,
   "metadata": {},
   "outputs": [
    {
     "data": {
      "text/plain": [
       "10"
      ]
     },
     "execution_count": 22,
     "metadata": {},
     "output_type": "execute_result"
    }
   ],
   "source": [
    "myinst._attrVar"
   ]
  },
  {
   "cell_type": "code",
   "execution_count": 23,
   "metadata": {},
   "outputs": [
    {
     "data": {
      "text/plain": [
       "\"Don't look here\""
      ]
     },
     "execution_count": 23,
     "metadata": {},
     "output_type": "execute_result"
    }
   ],
   "source": [
    "myinst._MyClass__hidden"
   ]
  },
  {
   "cell_type": "markdown",
   "metadata": {},
   "source": [
    "# With Context\n",
    "```with``` when we open a class using this keyword. it runs the ```__enter__(self, ...)``` method and when the indent block is dont it runs the ```__exit__(self, type, value, traceback, ...)``` method. This is for important operations that need to be run at entry and exist, such as access to a resource like a network or needs to free up resources upon completion.\n",
    "\n",
    "```with``` is used in context, we see it is good practice to close files in python below"
   ]
  },
  {
   "cell_type": "code",
   "execution_count": 26,
   "metadata": {},
   "outputs": [
    {
     "name": "stdout",
     "output_type": "stream",
     "text": [
      "this is a silly message\n",
      "done\n",
      "this is a silly message\n"
     ]
    }
   ],
   "source": [
    "with open(\"text.txt\") as fh:\n",
    "    for line in fh:\n",
    "        line = line.rstrip()\n",
    "        print line\n",
    "        \n",
    "print \"done\"\n",
    "\n",
    "fh = open(\"text.txt\")\n",
    "for line in fh:\n",
    "    print line\n",
    "fh.close()"
   ]
  },
  {
   "cell_type": "code",
   "execution_count": 34,
   "metadata": {
    "collapsed": true
   },
   "outputs": [],
   "source": [
    "class MyClass(object):\n",
    "    \n",
    "    def __enter__(self):\n",
    "        print \"Entering\"\n",
    "        return self\n",
    "    \n",
    "    def __exit__(self, type, value, traceback):\n",
    "        print \"Exiting {0} {0} {0}\".format(type, value, traceback)\n",
    "    \n",
    "    def running(self):\n",
    "        print \"Running {}\".format(id(self))"
   ]
  },
  {
   "cell_type": "code",
   "execution_count": 35,
   "metadata": {},
   "outputs": [
    {
     "name": "stdout",
     "output_type": "stream",
     "text": [
      "Entering\n",
      "Running 4397790288\n",
      "Exiting None None None\n",
      "After block\n"
     ]
    }
   ],
   "source": [
    "with MyClass() as mc:\n",
    "    mc.running()\n",
    "print \"After block\""
   ]
  },
  {
   "cell_type": "code",
   "execution_count": 36,
   "metadata": {},
   "outputs": [
    {
     "name": "stdout",
     "output_type": "stream",
     "text": [
      "Entering\n",
      "Running 4397792528\n",
      "Exiting <type 'exceptions.ZeroDivisionError'> <type 'exceptions.ZeroDivisionError'> <type 'exceptions.ZeroDivisionError'>\n"
     ]
    },
    {
     "ename": "ZeroDivisionError",
     "evalue": "integer division or modulo by zero",
     "output_type": "error",
     "traceback": [
      "\u001b[0;31m---------------------------------------------------------------------------\u001b[0m",
      "\u001b[0;31mZeroDivisionError\u001b[0m                         Traceback (most recent call last)",
      "\u001b[0;32m<ipython-input-36-6e40c02ff953>\u001b[0m in \u001b[0;36m<module>\u001b[0;34m()\u001b[0m\n\u001b[1;32m      1\u001b[0m \u001b[0;32mwith\u001b[0m \u001b[0mMyClass\u001b[0m\u001b[0;34m(\u001b[0m\u001b[0;34m)\u001b[0m \u001b[0;32mas\u001b[0m \u001b[0mmc\u001b[0m\u001b[0;34m:\u001b[0m\u001b[0;34m\u001b[0m\u001b[0m\n\u001b[1;32m      2\u001b[0m     \u001b[0mmc\u001b[0m\u001b[0;34m.\u001b[0m\u001b[0mrunning\u001b[0m\u001b[0;34m(\u001b[0m\u001b[0;34m)\u001b[0m\u001b[0;34m\u001b[0m\u001b[0m\n\u001b[0;32m----> 3\u001b[0;31m     \u001b[0;36m5\u001b[0m\u001b[0;34m/\u001b[0m\u001b[0;36m0\u001b[0m\u001b[0;34m\u001b[0m\u001b[0m\n\u001b[0m\u001b[1;32m      4\u001b[0m \u001b[0;32mprint\u001b[0m \u001b[0;34m\"After block\"\u001b[0m\u001b[0;34m\u001b[0m\u001b[0m\n",
      "\u001b[0;31mZeroDivisionError\u001b[0m: integer division or modulo by zero"
     ]
    }
   ],
   "source": [
    "with MyClass() as mc:\n",
    "    mc.running()\n",
    "    5/0\n",
    "print \"After block\""
   ]
  },
  {
   "cell_type": "markdown",
   "metadata": {},
   "source": [
    "# New Style Classes\n",
    "New style classes are ```class MyClass(object)``` old styles do not have the object keyword. The interpreter actually sees them as different.\n",
    "Old classes are of type ```instance```.\n",
    "\n",
    "The New Style Class:\n",
    "1. Inherits from object\n",
    "2. Can be constructed with default attributes from \"metaclass\" constructors\n",
    "3. Allow subclassing of built ins\n",
    "4. Allows the use of \"slots\" to define instance attributes.\n",
    "5. Use of the C3 MRO method resolution order\n",
    "6. Supports descriptors\n",
    "7. Only style of class in Python 3"
   ]
  },
  {
   "cell_type": "code",
   "execution_count": 37,
   "metadata": {
    "collapsed": true
   },
   "outputs": [],
   "source": [
    "class NewClass(object):\n",
    "    pass\n",
    "\n",
    "class OldClass():\n",
    "    pass"
   ]
  },
  {
   "cell_type": "code",
   "execution_count": 38,
   "metadata": {
    "collapsed": true
   },
   "outputs": [],
   "source": [
    "nc = NewClass()\n",
    "oc = OldClass()"
   ]
  },
  {
   "cell_type": "code",
   "execution_count": 39,
   "metadata": {},
   "outputs": [
    {
     "name": "stdout",
     "output_type": "stream",
     "text": [
      "<class '__main__.NewClass'> <type 'instance'>\n"
     ]
    }
   ],
   "source": [
    "print type(nc), type(oc)"
   ]
  },
  {
   "cell_type": "markdown",
   "metadata": {},
   "source": []
  }
 ],
 "metadata": {
  "kernelspec": {
   "display_name": "py3",
   "language": "python",
   "name": "py3"
  },
  "language_info": {
   "codemirror_mode": {
    "name": "ipython",
    "version": 2
   },
   "file_extension": ".py",
   "mimetype": "text/x-python",
   "name": "python",
   "nbconvert_exporter": "python",
   "pygments_lexer": "ipython2",
   "version": "2.7.13"
  }
 },
 "nbformat": 4,
 "nbformat_minor": 2
}
