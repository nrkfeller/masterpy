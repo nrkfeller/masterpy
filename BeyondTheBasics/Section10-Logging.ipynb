{
 "cells": [
  {
   "cell_type": "markdown",
   "metadata": {},
   "source": [
    "# Logging\n",
    "Writes logging events to file or terminal screen\n",
    "\n",
    "Messages are writte and logged at levels of severtiy:\n",
    "1. DEBUG ```debug()``` diagnostic message for development\n",
    "2. INFO ```info()``` standard progress messages\n",
    "3. WARNING ```warning()``` detected a non-serious issue\n",
    "4. ERROR ```error()``` encountered an error, possible serious\n",
    "5. CRITICAL ```critical()``` usually a fatal error programs stops"
   ]
  },
  {
   "cell_type": "code",
   "execution_count": 16,
   "metadata": {
    "collapsed": true
   },
   "outputs": [],
   "source": [
    "import logging\n",
    "\n",
    "logging.basicConfig(level=logging.DEBUG, filename='example.log')\n",
    "\n",
    "logging.debug('This is a debug message')\n",
    "logging.info('This is an info message')\n",
    "logging.warning('This is a warning message')"
   ]
  },
  {
   "cell_type": "code",
   "execution_count": 5,
   "metadata": {
    "collapsed": true
   },
   "outputs": [],
   "source": [
    "import logging\n",
    "\n",
    "# overwrite logfile\n",
    "logging.basicConfig(filename='example.log', filemode='w')\n",
    "logging.debug('This is a debug message')"
   ]
  },
  {
   "cell_type": "code",
   "execution_count": 17,
   "metadata": {
    "collapsed": true
   },
   "outputs": [],
   "source": [
    "import logging\n",
    " \n",
    "# include date and time, precise\n",
    "FORMAT = '%(asctime)-15s %(message)s'\n",
    "\n",
    "logging.basicConfig(level=logging.DEBUG, format=FORMAT, filemode='w')\n",
    "\n",
    "logging.debug('This is a debug message')"
   ]
  },
  {
   "cell_type": "markdown",
   "metadata": {},
   "source": [
    "# Benchmarking\n",
    "Execution time and memory allocation.\n",
    "* run test multiple times\n",
    "* take the lowest of the execution times\n",
    "* it is important that test is only valid for the exact test case in that exact situation"
   ]
  },
  {
   "cell_type": "code",
   "execution_count": 24,
   "metadata": {},
   "outputs": [
    {
     "name": "stdout",
     "output_type": "stream",
     "text": [
      "by index  0.0471448898315\n",
      "by get  0.102910041809\n"
     ]
    }
   ],
   "source": [
    "import timeit\n",
    "\n",
    "print 'by index ',timeit.timeit(stmt=\"mydict['c']\", \n",
    "                                setup=\"mydict = {'a':5, 'b':6, 'c':7}\", \n",
    "                                number=1000000)\n",
    "\n",
    "print 'by get ',timeit.timeit(stmt=\"mydict.get('c')\", \n",
    "                                setup=\"mydict = {'a':5, 'b':6, 'c':7}\", \n",
    "                                number=1000000)"
   ]
  },
  {
   "cell_type": "code",
   "execution_count": 25,
   "metadata": {},
   "outputs": [
    {
     "name": "stdout",
     "output_type": "stream",
     "text": [
      "0.132401943207\n"
     ]
    }
   ],
   "source": [
    "# for a custom function\n",
    "\n",
    "import timeit\n",
    "\n",
    "def testme(this_dict, key):\n",
    "    return this_dict[key]\n",
    "\n",
    "print timeit.timeit(\"testme(mydict, key)\",\n",
    "                   setup=\"from __main__ import testme; mydict = {'a':1,'b':2,'c':5}; key='c'\",\n",
    "                   number=1000000)"
   ]
  },
  {
   "cell_type": "code",
   "execution_count": null,
   "metadata": {
    "collapsed": true
   },
   "outputs": [],
   "source": []
  }
 ],
 "metadata": {
  "kernelspec": {
   "display_name": "py3",
   "language": "python",
   "name": "py3"
  },
  "language_info": {
   "codemirror_mode": {
    "name": "ipython",
    "version": 2
   },
   "file_extension": ".py",
   "mimetype": "text/x-python",
   "name": "python",
   "nbconvert_exporter": "python",
   "pygments_lexer": "ipython2",
   "version": "2.7.13"
  }
 },
 "nbformat": 4,
 "nbformat_minor": 2
}
