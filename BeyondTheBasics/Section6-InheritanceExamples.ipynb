{
 "cells": [
  {
   "cell_type": "markdown",
   "metadata": {},
   "source": [
    "# Inheritance examples\n",
    "Different design decisions for parent classes\n",
    "* Inherit: simply use the parent class' definition method\n",
    "* Overrider/overload: provide child's own versin of a method\n",
    "* Extend: do work in addition to that in parent's method\n",
    "* Provide: implement abstract method that parent requires"
   ]
  },
  {
   "cell_type": "code",
   "execution_count": 7,
   "metadata": {},
   "outputs": [],
   "source": [
    "import abc\n",
    "\n",
    "class GetSetParent(object):\n",
    "    \n",
    "    __metaclass__ = abc.ABCMeta\n",
    "    \n",
    "    def __init__(self, value):\n",
    "        self.val = 0\n",
    "        \n",
    "    def set_val(self, value):\n",
    "        self.val = value\n",
    "        \n",
    "    def get_val(self):\n",
    "        return self.val\n",
    "    \n",
    "    @abc.abstractmethod\n",
    "    def showdoc(self):\n",
    "        return"
   ]
  },
  {
   "cell_type": "code",
   "execution_count": 8,
   "metadata": {
    "collapsed": true
   },
   "outputs": [],
   "source": [
    "class GetSetInt(GetSetParent):\n",
    "    \n",
    "    # here we specialize the parent class\n",
    "    def set_val(self, value):\n",
    "        if not isinstance(value, int):\n",
    "            value = 0\n",
    "        # call the parent\n",
    "        super(GetSetInt, self).set_val(value)\n",
    "        \n",
    "    def showdoc(self):\n",
    "        print('GetSetInt object ({}), only accepts '\n",
    "             'integer value'.format(id(self)))"
   ]
  },
  {
   "cell_type": "code",
   "execution_count": 9,
   "metadata": {},
   "outputs": [
    {
     "name": "stdout",
     "output_type": "stream",
     "text": [
      "4\n"
     ]
    }
   ],
   "source": [
    "x = GetSetInt(3)\n",
    "x.set_val(4)\n",
    "print(x.get_val())"
   ]
  },
  {
   "cell_type": "code",
   "execution_count": 10,
   "metadata": {},
   "outputs": [
    {
     "name": "stdout",
     "output_type": "stream",
     "text": [
      "GetSetInt object (4545552336), only accepts integer value\n"
     ]
    }
   ],
   "source": [
    "x.showdoc()"
   ]
  },
  {
   "cell_type": "code",
   "execution_count": 11,
   "metadata": {
    "collapsed": true
   },
   "outputs": [],
   "source": [
    "class GetSetList(GetSetParent):\n",
    "    \n",
    "    def __init__(self, val=0):\n",
    "        self.valList = [val]\n",
    "        \n",
    "    def get_val(self):\n",
    "        return self.valList[-1]\n",
    "    \n",
    "    def get_vals(self):\n",
    "        return self.valList\n",
    "    \n",
    "    def set_val(self,value):\n",
    "        self.valList.append(value)\n",
    "        \n",
    "    def showdoc(self):\n",
    "        print('GetSetInt object ({}), only accepts '\n",
    "             'integer value'.format(id(self.valList)))"
   ]
  },
  {
   "cell_type": "code",
   "execution_count": 12,
   "metadata": {
    "collapsed": true
   },
   "outputs": [],
   "source": [
    "y = GetSetList(5)\n",
    "y.set_val(10)\n",
    "y.set_val(20)"
   ]
  },
  {
   "cell_type": "code",
   "execution_count": 13,
   "metadata": {},
   "outputs": [
    {
     "name": "stdout",
     "output_type": "stream",
     "text": [
      "20\n"
     ]
    }
   ],
   "source": [
    "print y.get_val()"
   ]
  },
  {
   "cell_type": "code",
   "execution_count": 14,
   "metadata": {},
   "outputs": [
    {
     "name": "stdout",
     "output_type": "stream",
     "text": [
      "[5, 10, 20]\n"
     ]
    }
   ],
   "source": [
    "print y.get_vals()"
   ]
  },
  {
   "cell_type": "code",
   "execution_count": 15,
   "metadata": {},
   "outputs": [
    {
     "name": "stdout",
     "output_type": "stream",
     "text": [
      "GetSetInt object (4537845664), only accepts integer value\n"
     ]
    }
   ],
   "source": [
    "y.showdoc()"
   ]
  },
  {
   "cell_type": "markdown",
   "metadata": {},
   "source": [
    "# Composition versus Inheritance\n",
    "* Inheritance is brittle, because a change somewhere somtimes means a change somewhere else\n",
    "* Decoupled (interactive but independent) code means that we there is no dependency\n",
    "* As long as we respect interfaces, interactions between classes will work\n",
    "* Not checking or requiring particular types is pythonic (polymorphic)"
   ]
  },
  {
   "cell_type": "code",
   "execution_count": 24,
   "metadata": {
    "collapsed": true
   },
   "outputs": [],
   "source": [
    "import random\n",
    "import StringIO\n",
    "\n",
    "class WriteString(object):\n",
    "    \"\"\"\n",
    "    This takes whatever you instantiate it with and calls write to it\n",
    "    Database, Connection, File etc..\n",
    "    \"\"\"\n",
    "    def __init__(self, writer):\n",
    "        self.writer = writer\n",
    "        \n",
    "    def write(self):\n",
    "        write_text = \"this is a silly message\"\n",
    "        self.writer.write(write_text)\n",
    "    "
   ]
  },
  {
   "cell_type": "code",
   "execution_count": 25,
   "metadata": {
    "collapsed": true
   },
   "outputs": [],
   "source": [
    "fh = open(\"text.txt\", 'w')\n",
    "w1 = WriteString(fh)\n",
    "w1.write()\n",
    "fh.close()"
   ]
  },
  {
   "cell_type": "code",
   "execution_count": 26,
   "metadata": {
    "collapsed": true
   },
   "outputs": [],
   "source": [
    "sioh = StringIO.StringIO()\n",
    "w2 = WriteString(sioh)\n",
    "w2.write()"
   ]
  },
  {
   "cell_type": "code",
   "execution_count": 27,
   "metadata": {},
   "outputs": [
    {
     "name": "stdout",
     "output_type": "stream",
     "text": [
      "file object:  this is a silly message\n",
      "StringIO object:  this is a silly message\n"
     ]
    }
   ],
   "source": [
    "print 'file object: ', open('text.txt', 'r').read()\n",
    "print 'StringIO object: ', sioh.getvalue()"
   ]
  },
  {
   "cell_type": "markdown",
   "metadata": {},
   "source": [
    "# Google App Engine Example"
   ]
  },
  {
   "cell_type": "code",
   "execution_count": 29,
   "metadata": {},
   "outputs": [
    {
     "name": "stdout",
     "output_type": "stream",
     "text": [
      "Collecting myappengine\n",
      "\u001b[31m  Could not find a version that satisfies the requirement myappengine (from versions: )\u001b[0m\n",
      "\u001b[31mNo matching distribution found for myappengine\u001b[0m\n"
     ]
    }
   ],
   "source": [
    "from myappengine import webfunc, run_app\n",
    "\n",
    "class MainPage(webfunc.RequestHandler):\n",
    "    \n",
    "    def get(self):\n",
    "        self.response.header(['Content-Type'] = 'text/plain')\n",
    "        self.response.out.write('The main page')\n",
    "        \n",
    "class FAQPage(webfunc.RequestHandler):\n",
    "    \n",
    "    def get(self):\n",
    "        self.reponse.header(['Content-Type'] = 'text/plain')\n",
    "        self.response.out.write('The FAQ page')\n",
    "        \n",
    "application = webfunc.WSGIApplication(\n",
    "[('/', MainPage),\n",
    "('/FAQ', FAQPage)], debug=True)\n",
    "\n",
    "def main():\n",
    "    run_app(application)\n",
    "    \n",
    "main()"
   ]
  },
  {
   "cell_type": "markdown",
   "metadata": {},
   "source": [
    "We are passing classes to google app engine, all we have to do is write classes that are used by the inheritance structure of ```webfunc.RequestHandler```"
   ]
  },
  {
   "cell_type": "code",
   "execution_count": null,
   "metadata": {
    "collapsed": true
   },
   "outputs": [],
   "source": []
  }
 ],
 "metadata": {
  "kernelspec": {
   "display_name": "py3",
   "language": "python",
   "name": "py3"
  },
  "language_info": {
   "codemirror_mode": {
    "name": "ipython",
    "version": 2
   },
   "file_extension": ".py",
   "mimetype": "text/x-python",
   "name": "python",
   "nbconvert_exporter": "python",
   "pygments_lexer": "ipython2",
   "version": "2.7.13"
  }
 },
 "nbformat": 4,
 "nbformat_minor": 2
}
