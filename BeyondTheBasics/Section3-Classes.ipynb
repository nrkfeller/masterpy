{
 "cells": [
  {
   "cell_type": "markdown",
   "metadata": {},
   "source": [
    "# Classes\n",
    "* Class: blueprint for an instance\n",
    "* Instace: a constructed object of the class\n",
    "* Type: The class of an instance\n",
    "* Attribute: a value of that an object has\n",
    "* Method: callable attribute (methods are attributes), a function defined in a class. Functionality associated with an object of a class\n",
    "\n",
    "An ATM is like a class definition, when you slide you card in, its instantiated, now its attributes are related to the instantiation from your account\n",
    "\n",
    "1. Instances can be created from classes\n",
    "2. Instances are aware of the classes that they came from as well as their memory location\n",
    "3. Instances can access attributes with the . syntax"
   ]
  },
  {
   "cell_type": "code",
   "execution_count": 6,
   "metadata": {},
   "outputs": [
    {
     "name": "stdout",
     "output_type": "stream",
     "text": [
      "<__main__.MyClass object at 0x10f81fc10>\n",
      "7\n"
     ]
    }
   ],
   "source": [
    "class MyClass(object):\n",
    "    var = 7\n",
    "\n",
    "my_obj = MyClass()\n",
    "my_second_obj = MyClass()\n",
    "\n",
    "print my_obj # address in memory where it is located\n",
    "print my_second_obj.var"
   ]
  },
  {
   "cell_type": "markdown",
   "metadata": {},
   "source": [
    "# Self\n",
    "When a method is called it is implicit that the instance is the first argument passed in all of the class methods."
   ]
  },
  {
   "cell_type": "code",
   "execution_count": 14,
   "metadata": {},
   "outputs": [
    {
     "name": "stdout",
     "output_type": "stream",
     "text": [
      "I just met you and this is crazy\n",
      "<__main__.MySecondClass object at 0x10f8a3750>\n",
      "<__main__.MySecondClass object at 0x10f8a3750>\n"
     ]
    }
   ],
   "source": [
    "class MySecondClass(object):\n",
    "    def callMeMaybe(self):\n",
    "        print(\"I just met you and this is crazy\")\n",
    "        print(self)\n",
    "\n",
    "my_instance = MySecondClass()\n",
    "my_instance.callMeMaybe()\n",
    "print(my_instance)\n",
    "# we can see that print(self) and print(my_instance) has the same hexcode,\n",
    "# meaning it is the same instance"
   ]
  },
  {
   "cell_type": "markdown",
   "metadata": {},
   "source": [
    "# Instance Attributes\n",
    "Objects can have their own attributes."
   ]
  },
  {
   "cell_type": "code",
   "execution_count": 21,
   "metadata": {},
   "outputs": [
    {
     "data": {
      "text/plain": [
       "5"
      ]
     },
     "execution_count": 21,
     "metadata": {},
     "output_type": "execute_result"
    }
   ],
   "source": [
    "import random\n",
    "\n",
    "class MyClass(object):\n",
    "    def doThis(self):\n",
    "        self.rand_val = random.randint(1,10)\n",
    "        \n",
    "my_inst = MyClass()\n",
    "my_inst.doThis()\n",
    "my_inst.rand_val"
   ]
  },
  {
   "cell_type": "markdown",
   "metadata": {},
   "source": [
    "# Encapsulation\n",
    "Insures that we only affect instances through a gateway method. setting attributes in the code body is poor practice because it breaks encapsulation. We could set any type to something we want to absolutely be a string.\n",
    "Setter methods can be made to check for things like type and other sanitization."
   ]
  },
  {
   "cell_type": "code",
   "execution_count": 26,
   "metadata": {},
   "outputs": [
    {
     "data": {
      "text/plain": [
       "25"
      ]
     },
     "execution_count": 26,
     "metadata": {},
     "output_type": "execute_result"
    }
   ],
   "source": [
    "import random\n",
    "\n",
    "\n",
    "class MyClass(object):\n",
    "    \n",
    "    # Setter\n",
    "    def set_val(self):\n",
    "        self.rand_val = random.randint(0,100)\n",
    "       \n",
    "    # Getter\n",
    "    def get_val(self):\n",
    "        if self.rand_val:\n",
    "            return self.rand_val\n",
    "        else:\n",
    "            return 0\n",
    "        \n",
    "myinst = MyClass()\n",
    "myinst.set_val()\n",
    "myinst.get_val()"
   ]
  },
  {
   "cell_type": "code",
   "execution_count": 30,
   "metadata": {},
   "outputs": [
    {
     "data": {
      "text/plain": [
       "11"
      ]
     },
     "execution_count": 30,
     "metadata": {},
     "output_type": "execute_result"
    }
   ],
   "source": [
    "class MyInteger(object):\n",
    "    \n",
    "    def setInt(self, value):\n",
    "        try:\n",
    "            myval = int(value)\n",
    "        except ValueError:\n",
    "            return \"Cannot convert to int\"\n",
    "        self.myint = myval\n",
    "        \n",
    "    def getInt(self):\n",
    "        return self.myint\n",
    "    \n",
    "    def incInt(self):\n",
    "        self.myint += 1\n",
    "   \n",
    "# requiring the use of setInt, we are insuring data integrity\n",
    "int1 = MyInteger()\n",
    "int1.setInt(10)\n",
    "int1.incInt()\n",
    "int1.getInt()"
   ]
  },
  {
   "cell_type": "markdown",
   "metadata": {},
   "source": [
    "# Init contructor __init__(self)\n",
    "This is a private or magic method.\n",
    "* private, used internally\n",
    "* magic, it called automatically\n",
    "\n",
    "Since ```__init__(self)``` is called automatically we can pass it arguments! also an opportunity to do prep work at construction"
   ]
  },
  {
   "cell_type": "code",
   "execution_count": 33,
   "metadata": {},
   "outputs": [
    {
     "name": "stdout",
     "output_type": "stream",
     "text": [
      "initializing object\n",
      "13\n"
     ]
    }
   ],
   "source": [
    "class MyInt(object):\n",
    "    \n",
    "    def __init__(self, val):\n",
    "        print(\"initializing object\")\n",
    "        self.val = val\n",
    "        \n",
    "    def inc(self):\n",
    "        self.val += 1\n",
    "        \n",
    "myinst = MyInt(10)\n",
    "myinst.inc()\n",
    "myinst.inc()\n",
    "myinst.inc()\n",
    "print(myinst.val)"
   ]
  },
  {
   "cell_type": "code",
   "execution_count": 37,
   "metadata": {},
   "outputs": [
    {
     "name": "stdout",
     "output_type": "stream",
     "text": [
      "initializing object\n",
      "Not int value, initializing val to 0\n"
     ]
    },
    {
     "data": {
      "text/plain": [
       "1"
      ]
     },
     "execution_count": 37,
     "metadata": {},
     "output_type": "execute_result"
    }
   ],
   "source": [
    "class MyInt(object):\n",
    "    \n",
    "    def __init__(self, val):\n",
    "        print(\"initializing object\")\n",
    "        try:\n",
    "            val = int(val)\n",
    "        except ValueError:\n",
    "            print(\"Not int value, initializing val to 0\")\n",
    "            val = 0\n",
    "        self.val = val\n",
    "        \n",
    "    def inc(self):\n",
    "        self.val += 1\n",
    "        \n",
    "myinst = MyInt(\"hi\")\n",
    "myinst.inc()\n",
    "myinst.val"
   ]
  },
  {
   "cell_type": "markdown",
   "metadata": {
    "collapsed": true
   },
   "source": [
    "# Attribute lookup order\n",
    "When calling for an attribute. There is a lookup order:\n",
    "1. looks at the instance attribute\n",
    "2. looks at the class attribute"
   ]
  },
  {
   "cell_type": "code",
   "execution_count": 3,
   "metadata": {},
   "outputs": [
    {
     "name": "stdout",
     "output_type": "stream",
     "text": [
      "20\n",
      "10\n"
     ]
    }
   ],
   "source": [
    "class MyClass(object):\n",
    "    myatt = 10\n",
    "    \n",
    "myinst = MyClass()\n",
    "myinst.myatt = 20\n",
    "print myinst.myatt\n",
    "del myinst.myatt\n",
    "print myinst.myatt"
   ]
  },
  {
   "cell_type": "code",
   "execution_count": 5,
   "metadata": {},
   "outputs": [
    {
     "name": "stdout",
     "output_type": "stream",
     "text": [
      "['__class__', '__delattr__', '__dict__', '__doc__', '__format__', '__getattribute__', '__hash__', '__init__', '__module__', '__new__', '__reduce__', '__reduce_ex__', '__repr__', '__setattr__', '__sizeof__', '__str__', '__subclasshook__', '__weakref__', 'myatt']\n"
     ]
    }
   ],
   "source": [
    "print(dir(myinst))"
   ]
  },
  {
   "cell_type": "markdown",
   "metadata": {},
   "source": [
    "# Class and Instance Data\n",
    "Instance data depends on the individual instance, class data is true for all the instances in that are part of a class"
   ]
  },
  {
   "cell_type": "code",
   "execution_count": 8,
   "metadata": {},
   "outputs": [
    {
     "name": "stdout",
     "output_type": "stream",
     "text": [
      "10\n",
      "3\n",
      "20\n",
      "3\n",
      "30\n",
      "3\n"
     ]
    }
   ],
   "source": [
    "class MyClass(object):\n",
    "    classData = 0\n",
    "    \n",
    "    def __init__(self,  instanceData):\n",
    "        self.instanceData = instanceData\n",
    "        MyClass.classData +=1\n",
    "        \n",
    "    def inc(self):\n",
    "        self.instanceData += 1\n",
    "        \n",
    "    def get_data(self):\n",
    "        return self.instanceData\n",
    "    \n",
    "    def set_data(self, data):\n",
    "        self.instanceData = data\n",
    "        \n",
    "ione = MyClass(10)\n",
    "itwo = MyClass(20)\n",
    "ithree = MyClass(30)\n",
    "\n",
    "for i in (ione, itwo, ithree):\n",
    "    print i.get_data()\n",
    "    print i.classData    "
   ]
  },
  {
   "cell_type": "code",
   "execution_count": null,
   "metadata": {
    "collapsed": true
   },
   "outputs": [],
   "source": []
  }
 ],
 "metadata": {
  "kernelspec": {
   "display_name": "py3",
   "language": "python",
   "name": "py3"
  },
  "language_info": {
   "codemirror_mode": {
    "name": "ipython",
    "version": 2
   },
   "file_extension": ".py",
   "mimetype": "text/x-python",
   "name": "python",
   "nbconvert_exporter": "python",
   "pygments_lexer": "ipython2",
   "version": "2.7.13"
  }
 },
 "nbformat": 4,
 "nbformat_minor": 2
}
