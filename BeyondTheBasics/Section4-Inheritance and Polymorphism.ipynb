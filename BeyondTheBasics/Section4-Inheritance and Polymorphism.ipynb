{
 "cells": [
  {
   "cell_type": "markdown",
   "metadata": {},
   "source": [
    "# Inheritance\n",
    "Class takes attributes form another class\n",
    "\n",
    "Python lookup heirarchy\n",
    "1. The instance\n",
    "2. The class\n",
    "3. Classes from which it inherits"
   ]
  },
  {
   "cell_type": "code",
   "execution_count": 17,
   "metadata": {},
   "outputs": [
    {
     "name": "stdout",
     "output_type": "stream",
     "text": [
      "\n"
     ]
    }
   ],
   "source": [
    "import datetime\n",
    "class Date(object):\n",
    "    def get_date(self):\n",
    "        return datetime.date.today()\n",
    "    \n",
    "class Time(Date):\n",
    "    def get_time(self):\n",
    "        return datetime.datetime.now().time()"
   ]
  },
  {
   "cell_type": "code",
   "execution_count": 24,
   "metadata": {},
   "outputs": [
    {
     "name": "stdout",
     "output_type": "stream",
     "text": [
      "2017-09-02\n"
     ]
    }
   ],
   "source": [
    "d = Date()\n",
    "print d.get_date()"
   ]
  },
  {
   "cell_type": "code",
   "execution_count": 25,
   "metadata": {},
   "outputs": [
    {
     "name": "stdout",
     "output_type": "stream",
     "text": [
      "2017-09-02\n",
      "14:01:55.108382\n"
     ]
    }
   ],
   "source": [
    "t = Time()\n",
    "print t.get_date()\n",
    "print t.get_time()"
   ]
  },
  {
   "cell_type": "markdown",
   "metadata": {},
   "source": [
    "# More Inheritance example\n",
    "We can avoid duplicating code is we use a hierarchy that makes sense"
   ]
  },
  {
   "cell_type": "code",
   "execution_count": 31,
   "metadata": {
    "collapsed": true
   },
   "outputs": [],
   "source": [
    "class Animal(object):\n",
    "    def __init__(self, name):\n",
    "        self.name = name\n",
    "        \n",
    "    def eat(self, food):\n",
    "        print \"{} eats {}\".format(self.name, food)\n",
    "        \n",
    "class Dog(Animal):\n",
    "    def fetch(self, thing):\n",
    "        print \"{} fetches {}\".format(self.name, thing)\n",
    "        \n",
    "class Cat(Animal):\n",
    "    def swatString(self):\n",
    "        print \"{} shreds the string\".format(self.name)"
   ]
  },
  {
   "cell_type": "code",
   "execution_count": 32,
   "metadata": {
    "collapsed": true
   },
   "outputs": [],
   "source": [
    "fido = Dog(\"Fido\")\n",
    "whiskers = Cat(\"Whiskers\")"
   ]
  },
  {
   "cell_type": "code",
   "execution_count": 35,
   "metadata": {},
   "outputs": [
    {
     "name": "stdout",
     "output_type": "stream",
     "text": [
      "Fido fetches potaot\n",
      "Fido eats ham\n"
     ]
    }
   ],
   "source": [
    "fido.fetch(\"potaot\")\n",
    "fido.eat(\"ham\")"
   ]
  },
  {
   "cell_type": "code",
   "execution_count": 36,
   "metadata": {},
   "outputs": [
    {
     "name": "stdout",
     "output_type": "stream",
     "text": [
      "Whiskers shreds the string\n",
      "Whiskers eats jambo\n"
     ]
    }
   ],
   "source": [
    "whiskers.swatString()\n",
    "whiskers.eat(\"jambo\")"
   ]
  },
  {
   "cell_type": "markdown",
   "metadata": {},
   "source": [
    "# Polymorphism\n",
    "Polymorphism means many shapes. Objects of different types can be treated in the same manner. Meaning that depending on the object, methods with the name name can illicit similar but different behavior. This is a conceptual connection using an identifal interface\n",
    "\n",
    "This does not rely on magic functionality. This is more of a techinique that anything else. It allows for more consistency and expressiveness in the code. We can make a family of classes that do the same thing. Duck typing - trust the interface contract.\n",
    "\n",
    "len() works on strings, tuples, lists etc. "
   ]
  },
  {
   "cell_type": "code",
   "execution_count": 44,
   "metadata": {},
   "outputs": [
    {
     "name": "stdout",
     "output_type": "stream",
     "text": [
      "6 6\n",
      "5 5\n",
      "2 2\n"
     ]
    }
   ],
   "source": [
    "mystr = \"potato\"\n",
    "mytup = (3,4,56,7,7)\n",
    "mylis = [42,\"hello\"]\n",
    "for i in (mystr,mytup,mylis):\n",
    "    print len(i), i.__len__()"
   ]
  },
  {
   "cell_type": "code",
   "execution_count": 48,
   "metadata": {},
   "outputs": [
    {
     "name": "stdout",
     "output_type": "stream",
     "text": [
      "['__add__', '__class__', '__contains__', '__delattr__', '__delitem__', '__delslice__', '__doc__', '__eq__', '__format__', '__ge__', '__getattribute__', '__getitem__', '__getslice__', '__gt__', '__hash__', '__iadd__', '__imul__', '__init__', '__iter__', '__le__', '__len__', '__lt__', '__mul__', '__ne__', '__new__', '__reduce__', '__reduce_ex__', '__repr__', '__reversed__', '__rmul__', '__setattr__', '__setitem__', '__setslice__', '__sizeof__', '__str__', '__subclasshook__', 'append', 'count', 'extend', 'index', 'insert', 'pop', 'remove', 'reverse', 'sort']\n"
     ]
    }
   ],
   "source": [
    "print(dir(mylis))"
   ]
  },
  {
   "cell_type": "code",
   "execution_count": 45,
   "metadata": {
    "collapsed": true
   },
   "outputs": [],
   "source": [
    "class Animal(object):\n",
    "    def __init__(self, name):\n",
    "        self.name = name\n",
    "        \n",
    "    def eat(self, food):\n",
    "        print \"{} eats {}\".format(self.name, food)\n",
    "        \n",
    "class Dog(Animal):\n",
    "    def fetch(self, thing):\n",
    "        print \"{} fetches {}\".format(self.name, thing)\n",
    "        \n",
    "    def show_affection(self):\n",
    "        print \"{} wags his tail\".format(self.name)\n",
    "        \n",
    "class Cat(Animal):\n",
    "    def swatString(self):\n",
    "        print \"{} shreds the string\".format(self.name)\n",
    "        \n",
    "    def show_affection(self):\n",
    "        print \"{} purrs\".format(self.name)"
   ]
  },
  {
   "cell_type": "code",
   "execution_count": 42,
   "metadata": {},
   "outputs": [
    {
     "name": "stdout",
     "output_type": "stream",
     "text": [
      "Fluffy purrs\n",
      "Whiskers purrs\n",
      "Spot wags his tail\n"
     ]
    }
   ],
   "source": [
    "cat1 = Cat(\"Fluffy\")\n",
    "cat2 = Cat(\"Whiskers\")\n",
    "dog1 = Dog(\"Spot\")\n",
    "animals = (cat1,cat2,dog1)\n",
    "for a in animals:\n",
    "    a.show_affection()"
   ]
  },
  {
   "cell_type": "markdown",
   "metadata": {},
   "source": [
    "# Inheriting the Constructor\n",
    "We can have parent and child class contribute to the ```__init__(self)``` like so:\n",
    "\n",
    "This allow us to keep things modular. Gives us access to parent class attributes."
   ]
  },
  {
   "cell_type": "code",
   "execution_count": 59,
   "metadata": {
    "collapsed": true
   },
   "outputs": [],
   "source": [
    "class Animal(object):\n",
    "    def __init__(self, name):\n",
    "        self.name = name\n",
    "        \n",
    "    def eat(self, food):\n",
    "        print \"{} eats {}\".format(self.name, food)\n",
    "        \n",
    "class Dog(Animal):\n",
    "    \n",
    "    def __init__(self, name, breed):\n",
    "        # this super is the magic that uses the parent class init\n",
    "        super(Dog, self).__init__(name)\n",
    "        self.breed = breed\n",
    "        \n",
    "    def fetch(self, thing):\n",
    "        print \"{} fetches {}\".format(self.name, thing)\n",
    "        \n",
    "    def show_affection(self):\n",
    "        print \"{} wags his tail\".format(self.name)"
   ]
  },
  {
   "cell_type": "code",
   "execution_count": 60,
   "metadata": {
    "collapsed": true
   },
   "outputs": [],
   "source": [
    "dog1 = Dog(\"spot\",\"dalmation\")"
   ]
  },
  {
   "cell_type": "code",
   "execution_count": 61,
   "metadata": {},
   "outputs": [
    {
     "name": "stdout",
     "output_type": "stream",
     "text": [
      "spot dalmation\n"
     ]
    }
   ],
   "source": [
    "print dog1.name, dog1.breed"
   ]
  },
  {
   "cell_type": "markdown",
   "metadata": {},
   "source": [
    "# Multiple Inheritance\n",
    "Python look up the class heirarchy when looking for an attribute to be read form and instance. This is called method resolution order.\n",
    "```\n",
    "class B(A)\n",
    "class D(B,C)\n",
    "```\n",
    "In this case if D,B,A,C all have the same attribute, it will proritize depth first. So in this case D,B,A,C in this order.\n",
    "\n",
    "This method ```.mro()``` allows us to look at this heirarchy."
   ]
  },
  {
   "cell_type": "code",
   "execution_count": 64,
   "metadata": {
    "collapsed": true
   },
   "outputs": [],
   "source": [
    "class A(object):\n",
    "    def do_this(self):\n",
    "        print \"A\"\n",
    "\n",
    "class B(A):\n",
    "    def do_this(self):\n",
    "        print \"B\"\n",
    "        \n",
    "class C(object):\n",
    "    def do_this(self):\n",
    "        print \"C\"\n",
    "        \n",
    "class D(B,C):\n",
    "    def do_this(self):\n",
    "        print \"D\""
   ]
  },
  {
   "cell_type": "code",
   "execution_count": 65,
   "metadata": {},
   "outputs": [
    {
     "data": {
      "text/plain": [
       "[__main__.D, __main__.B, __main__.A, __main__.C, object]"
      ]
     },
     "execution_count": 65,
     "metadata": {},
     "output_type": "execute_result"
    }
   ],
   "source": [
    "D.mro()"
   ]
  },
  {
   "cell_type": "markdown",
   "metadata": {},
   "source": [
    "# Diamond Inheritance Pattern\n",
    "D inherits form B and C and both B and C inherit from A"
   ]
  },
  {
   "cell_type": "code",
   "execution_count": 1,
   "metadata": {
    "collapsed": true
   },
   "outputs": [],
   "source": [
    "class A(object):\n",
    "    def do(self):\n",
    "        print \"A\"\n",
    "        \n",
    "class B(A):\n",
    "    def do(self):\n",
    "        print \"B\"\n",
    "        \n",
    "class C(A):\n",
    "    def do(self):\n",
    "        print \"C\"\n",
    "        \n",
    "class D(B,C):\n",
    "    def do(self):\n",
    "        print \"D\""
   ]
  },
  {
   "cell_type": "code",
   "execution_count": 4,
   "metadata": {},
   "outputs": [
    {
     "data": {
      "text/plain": [
       "[__main__.D, __main__.B, __main__.C, __main__.A, object]"
      ]
     },
     "execution_count": 4,
     "metadata": {},
     "output_type": "execute_result"
    }
   ],
   "source": [
    "# method resolution\n",
    "D.mro()"
   ]
  },
  {
   "cell_type": "code",
   "execution_count": 5,
   "metadata": {
    "collapsed": true
   },
   "outputs": [],
   "source": [
    "# This is still a depth first search only that the ealier occurences of appearances are removed"
   ]
  },
  {
   "cell_type": "code",
   "execution_count": null,
   "metadata": {
    "collapsed": true
   },
   "outputs": [],
   "source": []
  }
 ],
 "metadata": {
  "kernelspec": {
   "display_name": "py3",
   "language": "python",
   "name": "py3"
  },
  "language_info": {
   "codemirror_mode": {
    "name": "ipython",
    "version": 2
   },
   "file_extension": ".py",
   "mimetype": "text/x-python",
   "name": "python",
   "nbconvert_exporter": "python",
   "pygments_lexer": "ipython2",
   "version": "2.7.13"
  }
 },
 "nbformat": 4,
 "nbformat_minor": 2
}
