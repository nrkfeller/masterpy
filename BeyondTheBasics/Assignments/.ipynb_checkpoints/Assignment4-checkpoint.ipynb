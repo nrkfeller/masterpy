{
 "cells": [
  {
   "cell_type": "markdown",
   "metadata": {},
   "source": []
  },
  {
   "cell_type": "code",
   "execution_count": null,
   "metadata": {},
   "outputs": [],
   "source": [
    "import os\n",
    "\n",
    "class ConfigDictError(Exception):\n",
    "    \n",
    "    def __init__(self, message):\n",
    "        if message:\n",
    "            self.message = message\n",
    "        else:\n",
    "            self.message = \"\"\n",
    "            \n",
    "    def __str__(self):\n",
    "        if self.message:\n",
    "            return \"ConfigDictException: {}\".format(self.message)\n",
    "        else:\n",
    "            return \"ConfigDictException\"\n",
    "\n",
    "class ConfigDict(dict):\n",
    "    \n",
    "    def __init__(self, filename):\n",
    "        self._filename = filename\n",
    "        if not os.path.isfile(self._filename):\n",
    "            try:\n",
    "                open(self._filename, 'w').close()\n",
    "            except IOError:\n",
    "                raise IOError(\"arg to ConfigDict is not a valid pathname\")\n",
    "        with open(self._filename) as fh:\n",
    "                for line in fh:\n",
    "                    key, value = line.rstrip().split('=', 1)\n",
    "                    dict.__setitem__(self, key, value)\n",
    "                        \n",
    "    def __setitem__(self, key, value):\n",
    "        dict.__setitem__(self, key, value)\n",
    "        with open(self._filename, \"a\") as fh:\n",
    "            line = \"{}={}\\n\".format(key,value)\n",
    "            fh.write(line)\n",
    "        fh.close()\n",
    "        \n",
    "    def __getitem__(self, key):\n",
    "        if dict.__getitem__(self, key):\n",
    "            raise ConfigDictError(\"Key {} does not exists choose from {}\".format(key, self.keys()))\n",
    "        dict.__getitem__(self, key)"
   ]
  },
  {
   "cell_type": "code",
   "execution_count": null,
   "metadata": {
    "collapsed": true
   },
   "outputs": [],
   "source": []
  }
 ],
 "metadata": {
  "kernelspec": {
   "display_name": "py3",
   "language": "python",
   "name": "py3"
  },
  "language_info": {
   "codemirror_mode": {
    "name": "ipython",
    "version": 2
   },
   "file_extension": ".py",
   "mimetype": "text/x-python",
   "name": "python",
   "nbconvert_exporter": "python",
   "pygments_lexer": "ipython2",
   "version": "2.7.13"
  }
 },
 "nbformat": 4,
 "nbformat_minor": 2
}
