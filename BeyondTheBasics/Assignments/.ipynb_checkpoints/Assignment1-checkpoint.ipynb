{
 "cells": [
  {
   "cell_type": "code",
   "execution_count": 18,
   "metadata": {},
   "outputs": [],
   "source": [
    "class MaxSizeList(object):\n",
    "    \n",
    "    def __init__(self, maxSize):\n",
    "        self.maxSize = maxSize\n",
    "        self.list = []\n",
    "        \n",
    "    def push(self, item):\n",
    "        self.list.append(item)\n",
    "        if len(self.list) > self.maxSize:\n",
    "            self.list.pop(0)\n",
    "        \n",
    "    def get_list(self):\n",
    "        return self.list"
   ]
  },
  {
   "cell_type": "code",
   "execution_count": 19,
   "metadata": {},
   "outputs": [
    {
     "name": "stdout",
     "output_type": "stream",
     "text": [
      "[]\n",
      "[1]\n",
      "[1, 2]\n",
      "[1, 2, 3]\n",
      "[2, 3, 4]\n",
      "[3, 4, 5]\n",
      "[4, 5, 6]\n"
     ]
    }
   ],
   "source": [
    "a = MaxSizeList(3)\n",
    "print(a.list)\n",
    "a.push(1)\n",
    "print(a.get_list())\n",
    "a.push(2)\n",
    "print(a.get_list())\n",
    "a.push(3)\n",
    "print(a.get_list())\n",
    "a.push(4)\n",
    "print(a.get_list())\n",
    "a.push(5)\n",
    "print(a.get_list())\n",
    "a.push(6)\n",
    "print(a.get_list())"
   ]
  },
  {
   "cell_type": "code",
   "execution_count": null,
   "metadata": {},
   "outputs": [],
   "source": []
  },
  {
   "cell_type": "code",
   "execution_count": null,
   "metadata": {
    "collapsed": true
   },
   "outputs": [],
   "source": []
  }
 ],
 "metadata": {
  "kernelspec": {
   "display_name": "py3",
   "language": "python",
   "name": "py3"
  },
  "language_info": {
   "codemirror_mode": {
    "name": "ipython",
    "version": 2
   },
   "file_extension": ".py",
   "mimetype": "text/x-python",
   "name": "python",
   "nbconvert_exporter": "python",
   "pygments_lexer": "ipython2",
   "version": "2.7.13"
  }
 },
 "nbformat": 4,
 "nbformat_minor": 2
}
