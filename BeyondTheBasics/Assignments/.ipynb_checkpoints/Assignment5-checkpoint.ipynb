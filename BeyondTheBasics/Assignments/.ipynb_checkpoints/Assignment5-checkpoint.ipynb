{
 "cells": [
  {
   "cell_type": "code",
   "execution_count": 1,
   "metadata": {
    "collapsed": true
   },
   "outputs": [],
   "source": [
    "import os\n",
    "import pickle\n",
    "\n",
    "class ConfigPickleDict(dict):\n",
    "    \n",
    "    def __init__(self, filename):\n",
    "        self._filename = filename + '.pickle'\n",
    "        if not os.path.isfile(self._filename):\n",
    "            with open(self._filename, 'w') as fh:\n",
    "                pickle.dump({}, fh) # dumps an empty dict into the picklefile\n",
    "        with open(self._filename) as fh:\n",
    "            pkl = pickle.load(fh)\n",
    "            self.update(pkl)\n",
    "            \n",
    "    def __getitem__(self, key):\n",
    "        if not ket in self:\n",
    "            raise KeyError\n",
    "        return dict.__getitem__(self, key)\n",
    "    \n",
    "    def __setitem__(self, key, value):\n",
    "        dict.__setitem__(self, key, value)"
   ]
  },
  {
   "cell_type": "code",
   "execution_count": null,
   "metadata": {
    "collapsed": true
   },
   "outputs": [],
   "source": []
  }
 ],
 "metadata": {
  "kernelspec": {
   "display_name": "py3",
   "language": "python",
   "name": "py3"
  },
  "language_info": {
   "codemirror_mode": {
    "name": "ipython",
    "version": 2
   },
   "file_extension": ".py",
   "mimetype": "text/x-python",
   "name": "python",
   "nbconvert_exporter": "python",
   "pygments_lexer": "ipython2",
   "version": "2.7.13"
  }
 },
 "nbformat": 4,
 "nbformat_minor": 2
}
