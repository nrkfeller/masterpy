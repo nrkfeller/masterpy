{
 "cells": [
  {
   "cell_type": "markdown",
   "metadata": {},
   "source": [
    "# If the file does not yet exists"
   ]
  },
  {
   "cell_type": "code",
   "execution_count": 76,
   "metadata": {},
   "outputs": [],
   "source": [
    "class ConfigDict(dict):\n",
    "    \n",
    "    def __init__(self, filename):\n",
    "        self._filename = filename\n",
    "        self._internal_dict = {}\n",
    "        \n",
    "    def __setitem__(self, key, value):\n",
    "        with open(self._filename, \"a\") as fh:\n",
    "            line = \"{}={}\\n\".format(key,value)\n",
    "            fh.write(line)\n",
    "        fh.close()\n",
    "        \n",
    "    def __getitem__(self, key):\n",
    "        self._internal_dict = {}\n",
    "        fh = open(self._filename, 'r')\n",
    "        for line in fh:\n",
    "            k, v = line.rstrip().split(\"=\", 1)\n",
    "            self._internal_dict[k] = v\n",
    "        return self._internal_dict[key]"
   ]
  },
  {
   "cell_type": "code",
   "execution_count": 77,
   "metadata": {
    "collapsed": true
   },
   "outputs": [],
   "source": [
    "!rm test.txt"
   ]
  },
  {
   "cell_type": "code",
   "execution_count": 78,
   "metadata": {},
   "outputs": [],
   "source": [
    "cdict = ConfigDict(\"test.txt\")\n",
    "\n",
    "cdict['name'] = \"nickyfellz\"\n",
    "cdict['number'] = 5149846425"
   ]
  },
  {
   "cell_type": "code",
   "execution_count": 79,
   "metadata": {},
   "outputs": [
    {
     "name": "stdout",
     "output_type": "stream",
     "text": [
      "name=nickyfellz\r\n",
      "number=5149846425\r\n"
     ]
    }
   ],
   "source": [
    "!cat test.txt"
   ]
  },
  {
   "cell_type": "code",
   "execution_count": 80,
   "metadata": {},
   "outputs": [
    {
     "data": {
      "text/plain": [
       "'nickyfellz'"
      ]
     },
     "execution_count": 80,
     "metadata": {},
     "output_type": "execute_result"
    }
   ],
   "source": [
    "cdict[\"name\"]"
   ]
  },
  {
   "cell_type": "markdown",
   "metadata": {},
   "source": [
    "# If the file already exists"
   ]
  },
  {
   "cell_type": "code",
   "execution_count": 81,
   "metadata": {},
   "outputs": [],
   "source": [
    "import os\n",
    "\n",
    "class ConfigDict(dict):\n",
    "    \n",
    "    def __init__(self, filename):\n",
    "        self._filename = filename\n",
    "        if os.path.isfile(self._filename):\n",
    "            with open(self._filename) as fh:\n",
    "                    for line in fh:\n",
    "                        key, value = line.rstrip().split('=', 1)\n",
    "                        dict.__setitem__(self, key, value)\n",
    "                        \n",
    "    def __setitem__(self, key, value):\n",
    "        dict.__setitem__(self, key, value)\n",
    "        with open(self._filename, \"a\") as fh:\n",
    "            line = \"{}={}\\n\".format(key,value)\n",
    "            fh.write(line)\n",
    "        fh.close()"
   ]
  },
  {
   "cell_type": "code",
   "execution_count": 82,
   "metadata": {},
   "outputs": [],
   "source": [
    "cdict = ConfigDict(\"test.txt\")\n",
    "\n",
    "cdict['name'] = \"nickyfellz\"\n",
    "cdict['number'] = 5149846425"
   ]
  },
  {
   "cell_type": "code",
   "execution_count": 83,
   "metadata": {},
   "outputs": [
    {
     "data": {
      "text/plain": [
       "5149846425"
      ]
     },
     "execution_count": 83,
     "metadata": {},
     "output_type": "execute_result"
    }
   ],
   "source": [
    "cdict['number']"
   ]
  },
  {
   "cell_type": "code",
   "execution_count": 84,
   "metadata": {},
   "outputs": [
    {
     "data": {
      "text/plain": [
       "[('name', 'nickyfellz'), ('number', 5149846425)]"
      ]
     },
     "execution_count": 84,
     "metadata": {},
     "output_type": "execute_result"
    }
   ],
   "source": [
    "cdict.items()"
   ]
  },
  {
   "cell_type": "markdown",
   "metadata": {},
   "source": []
  }
 ],
 "metadata": {
  "kernelspec": {
   "display_name": "py3",
   "language": "python",
   "name": "py3"
  },
  "language_info": {
   "codemirror_mode": {
    "name": "ipython",
    "version": 2
   },
   "file_extension": ".py",
   "mimetype": "text/x-python",
   "name": "python",
   "nbconvert_exporter": "python",
   "pygments_lexer": "ipython2",
   "version": "2.7.13"
  }
 },
 "nbformat": 4,
 "nbformat_minor": 2
}
