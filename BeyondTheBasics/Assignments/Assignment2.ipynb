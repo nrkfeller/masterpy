{
 "cells": [
  {
   "cell_type": "code",
   "execution_count": 45,
   "metadata": {
    "collapsed": true
   },
   "outputs": [],
   "source": [
    "import abc\n",
    "class WriteFile(object):\n",
    "    __metaclass__ = abc.ABCMeta\n",
    "    def __init__(self, filename):\n",
    "        self.filename = filename\n",
    "    \n",
    "    @abc.abstractmethod\n",
    "    def write(self):\n",
    "        return\n",
    "    \n",
    "    def write_line(self, msg):\n",
    "        f = open(self.filename, 'a')\n",
    "        f.write(msg + '\\n')\n",
    "        f.close()"
   ]
  },
  {
   "cell_type": "code",
   "execution_count": 46,
   "metadata": {
    "collapsed": true
   },
   "outputs": [],
   "source": [
    "import datetime\n",
    "class LogFile(WriteFile):\n",
    "    def write(self, msg):\n",
    "        msg = \"{} {}\".format(datetime.datetime.now(), msg)\n",
    "        self.write_line(msg)"
   ]
  },
  {
   "cell_type": "code",
   "execution_count": 47,
   "metadata": {
    "collapsed": true
   },
   "outputs": [],
   "source": [
    "class DelimFile(WriteFile):\n",
    "    def __init__(self, filename, delim):\n",
    "        self.delim = delim\n",
    "        super(DelimFile, self).__init__(filename)\n",
    "    def write(self, msg):\n",
    "        line = self.delim.join(msg)\n",
    "        self.write_line(line)"
   ]
  },
  {
   "cell_type": "code",
   "execution_count": 51,
   "metadata": {},
   "outputs": [],
   "source": [
    "log = LogFile('log.txt')\n",
    "c = DelimFile('text.csv', '/')\n",
    "\n",
    "log.write('This is a log message')\n",
    "log.write('This is another log message')\n",
    "\n",
    "c.write(['potato', 'tomato', 'eggplant'])\n",
    "c.write(['duck', 'chicken', 'dove'])"
   ]
  },
  {
   "cell_type": "code",
   "execution_count": 52,
   "metadata": {},
   "outputs": [
    {
     "name": "stdout",
     "output_type": "stream",
     "text": [
      "duck/chicken/dove/potato/tomato/eggplant\r\n",
      "duck/chicken/dove\r\n",
      "potato/tomato/eggplant\r\n",
      "duck/chicken/dove\r\n"
     ]
    }
   ],
   "source": [
    "!cat text.csv"
   ]
  },
  {
   "cell_type": "code",
   "execution_count": 53,
   "metadata": {},
   "outputs": [
    {
     "name": "stdout",
     "output_type": "stream",
     "text": [
      "2017-09-03 17:39:27.879494 This is a log message\r\n",
      "2017-09-03 17:39:27.879909 This is another log message\r\n",
      "2017-09-03 17:39:49.333206 This is a log message\r\n",
      "2017-09-03 17:39:49.333483 This is another log message\r\n"
     ]
    }
   ],
   "source": [
    "!cat log.txt"
   ]
  },
  {
   "cell_type": "code",
   "execution_count": null,
   "metadata": {
    "collapsed": true
   },
   "outputs": [],
   "source": []
  }
 ],
 "metadata": {
  "kernelspec": {
   "display_name": "py3",
   "language": "python",
   "name": "py3"
  },
  "language_info": {
   "codemirror_mode": {
    "name": "ipython",
    "version": 2
   },
   "file_extension": ".py",
   "mimetype": "text/x-python",
   "name": "python",
   "nbconvert_exporter": "python",
   "pygments_lexer": "ipython2",
   "version": "2.7.13"
  }
 },
 "nbformat": 4,
 "nbformat_minor": 2
}
