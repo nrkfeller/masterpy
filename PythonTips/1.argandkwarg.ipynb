{
 "cells": [
  {
   "cell_type": "code",
   "execution_count": 1,
   "metadata": {},
   "outputs": [
    {
     "name": "stdout",
     "output_type": "stream",
     "text": [
      "first normal arg: potaot\n",
      "another from *argv: koala\n",
      "another from *argv: kartofeln\n",
      "another from *argv: tomato\n"
     ]
    }
   ],
   "source": [
    "# 1.1\n",
    "def test_var_args(f_arg, *argv):\n",
    "    print('first normal arg: {}'.format(f_arg))\n",
    "    for arg in argv:\n",
    "        print('another from *argv: {}'.format(arg))\n",
    "        \n",
    "test_var_args('potaot', 'koala', 'kartofeln', 'tomato')"
   ]
  },
  {
   "cell_type": "code",
   "execution_count": 4,
   "metadata": {},
   "outputs": [
    {
     "name": "stdout",
     "output_type": "stream",
     "text": [
      "key food, value potaot\n",
      "key fruit, value tomato\n",
      "key fast, value kartofeln\n",
      "key animal, value koala\n"
     ]
    }
   ],
   "source": [
    "# 1.2\n",
    "\n",
    "def greet_me(**kwargs):\n",
    "    for key, value in kwargs.items():\n",
    "        print('key {}, value {}'.format(key, value))\n",
    "        \n",
    "greet_me(food='potaot', animal='koala', fast='kartofeln', fruit='tomato')"
   ]
  },
  {
   "cell_type": "code",
   "execution_count": 8,
   "metadata": {},
   "outputs": [
    {
     "name": "stdout",
     "output_type": "stream",
     "text": [
      "two 3 5\n"
     ]
    }
   ],
   "source": [
    "# 1.3\n",
    "def test_args_kwargs(arg1, arg2, arg3):\n",
    "    print '{} {} {}'.format(arg1, arg2, arg3)\n",
    "\n",
    "stuff = ('two', 3, 5)\n",
    "test_args_kwargs(*stuff)"
   ]
  },
  {
   "cell_type": "code",
   "execution_count": 15,
   "metadata": {},
   "outputs": [
    {
     "name": "stdout",
     "output_type": "stream",
     "text": [
      "1.99 3.44 5.66\n"
     ]
    }
   ],
   "source": [
    "# The name of the key must match the argument in the function\n",
    "arg_dict = {'arg1':1.99, 'arg2':3.44, 'arg3':5.66}\n",
    "test_args_kwargs(**arg_dict)"
   ]
  },
  {
   "cell_type": "code",
   "execution_count": null,
   "metadata": {
    "collapsed": true
   },
   "outputs": [],
   "source": [
    "# 1.4 Monkey patching\n",
    "\n",
    "import someclass\n",
    "\n",
    "def get_info(self, *args):\n",
    "    return \"test test\"\n",
    "\n",
    "someclass.get_info = get_info"
   ]
  }
 ],
 "metadata": {
  "kernelspec": {
   "display_name": "Python 2",
   "language": "python",
   "name": "python2"
  },
  "language_info": {
   "codemirror_mode": {
    "name": "ipython",
    "version": 2
   },
   "file_extension": ".py",
   "mimetype": "text/x-python",
   "name": "python",
   "nbconvert_exporter": "python",
   "pygments_lexer": "ipython2",
   "version": "2.7.13"
  }
 },
 "nbformat": 4,
 "nbformat_minor": 2
}
