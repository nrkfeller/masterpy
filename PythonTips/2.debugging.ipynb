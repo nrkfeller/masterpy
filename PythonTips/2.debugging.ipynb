{
 "cells": [
  {
   "cell_type": "code",
   "execution_count": 2,
   "metadata": {},
   "outputs": [
    {
     "name": "stdout",
     "output_type": "stream",
     "text": [
      "> <ipython-input-2-7dbd809fd6c3>(5)make_bread()\n",
      "-> return \"no time\"\n",
      "(Pdb) c\n",
      "no time\n"
     ]
    }
   ],
   "source": [
    "import pdb\n",
    "\n",
    "def make_bread():\n",
    "    pdb.set_trace()\n",
    "    return \"no time\"\n",
    "    \n",
    "print(make_bread())"
   ]
  },
  {
   "cell_type": "markdown",
   "metadata": {},
   "source": [
    "Can also be run using ```$ python -m pdb my_script.py```\n",
    "\n",
    "The pdb commands are:\n",
    "* ```c``` continue\n",
    "* ```w``` show the context\n",
    "* ```a``` print argument list of current function\n",
    "* ```s``` execute current line and stop at the first possible occasion\n",
    "* ```n``` continue execution until the next line in the current function is reached or it returns"
   ]
  },
  {
   "cell_type": "code",
   "execution_count": null,
   "metadata": {
    "collapsed": true
   },
   "outputs": [],
   "source": []
  }
 ],
 "metadata": {
  "kernelspec": {
   "display_name": "Python 2",
   "language": "python",
   "name": "python2"
  },
  "language_info": {
   "codemirror_mode": {
    "name": "ipython",
    "version": 2
   },
   "file_extension": ".py",
   "mimetype": "text/x-python",
   "name": "python",
   "nbconvert_exporter": "python",
   "pygments_lexer": "ipython2",
   "version": "2.7.13"
  }
 },
 "nbformat": 4,
 "nbformat_minor": 2
}
